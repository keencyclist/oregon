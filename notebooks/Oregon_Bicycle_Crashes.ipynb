{
 "cells": [
  {
   "cell_type": "markdown",
   "metadata": {},
   "source": [
    "# Oregon Bicycle-Motor Vehicle Collisions 2009 - 2019\n",
    "### Data from ODOT\n",
    "\n"
   ]
  },
  {
   "cell_type": "markdown",
   "metadata": {},
   "source": [
    "### Data Prepartion\n",
    "\n",
    "This notebook takes unzipped annual files, separates out bicyclist-related crashes, and compiles the annual data into cumulative files for crashes, bicycles involved, motor vehicles involved, and persons involved (including both motorists and bicyclists). I used Tableau for exploratory data analysis."
   ]
  },
  {
   "cell_type": "code",
   "execution_count": 1,
   "metadata": {},
   "outputs": [],
   "source": [
    "import pandas as pd"
   ]
  },
  {
   "cell_type": "code",
   "execution_count": 10,
   "metadata": {},
   "outputs": [],
   "source": [
    "# function to read annual data\n",
    "def get_data(year):\n",
    "    crash_file = './bicycle_crashes' + str(year) + '.xlsx'\n",
    "    bicycle_crashes = pd.read_excel(crash_file,error_bad_lines=False)\n",
    "    motorist_file = './bicycle_crashes_motorist' + str(year) + '.xlsx'\n",
    "    bicycle_crashes_motorist = pd.read_excel(motorist_file,error_bad_lines=False)\n",
    "    return bicycle_crashes, bicycle_crashes_motorist "
   ]
  },
  {
   "cell_type": "code",
   "execution_count": 11,
   "metadata": {},
   "outputs": [
    {
     "name": "stderr",
     "output_type": "stream",
     "text": [
      "C:\\ProgramData\\Anaconda3\\lib\\site-packages\\ipykernel_launcher.py:9: FutureWarning: Sorting because non-concatenation axis is not aligned. A future version\n",
      "of pandas will change to not sort by default.\n",
      "\n",
      "To accept the future behavior, pass 'sort=False'.\n",
      "\n",
      "To retain the current behavior and silence the warning, pass 'sort=True'.\n",
      "\n",
      "  if __name__ == '__main__':\n"
     ]
    }
   ],
   "source": [
    "# read annual data and consolidate into a single file for each type\n",
    "bicycle_crashes_dfs, bicycle_crashes_motorist_dfs = ([] for i in range(2))\n",
    "# loop over data years available reading data and storing it in list\n",
    "for year in range(2009,2019):\n",
    "    bicycle_crashes, bicycle_crashes_motorist = get_data(year)\n",
    "        # store DataFrame in list\n",
    "    bicycle_crashes_dfs.append(bicycle_crashes)\n",
    "    bicycle_crashes_motorist_dfs.append(bicycle_crashes_motorist) \n",
    "# concatenate the lists into a single df for each of the 3 types\n",
    "bicycle_crashes = pd.concat(bicycle_crashes_dfs)\n",
    "bicycle_crashes_motorist = pd.concat(bicycle_crashes_motorist_dfs)"
   ]
  },
  {
   "cell_type": "code",
   "execution_count": 12,
   "metadata": {},
   "outputs": [
    {
     "data": {
      "text/plain": [
       "(9180, 210)"
      ]
     },
     "execution_count": 12,
     "metadata": {},
     "output_type": "execute_result"
    }
   ],
   "source": [
    "bicycle_crashes.shape"
   ]
  },
  {
   "cell_type": "code",
   "execution_count": 13,
   "metadata": {},
   "outputs": [
    {
     "data": {
      "text/plain": [
       "(9239, 97)"
      ]
     },
     "execution_count": 13,
     "metadata": {},
     "output_type": "execute_result"
    }
   ],
   "source": [
    "bicycle_crashes_motorist.shape"
   ]
  },
  {
   "cell_type": "code",
   "execution_count": 17,
   "metadata": {},
   "outputs": [],
   "source": [
    "# write files to excel\n",
    "bicycle_crashes.to_excel('./bicycle_crashes.xlsx', index=False)\n",
    "bicycle_crashes_motorist.to_excel('./bicycle_crashes_motorist.xlsx', index=False)"
   ]
  }
 ],
 "metadata": {
  "kernelspec": {
   "display_name": "Python 3",
   "language": "python",
   "name": "python3"
  },
  "language_info": {
   "codemirror_mode": {
    "name": "ipython",
    "version": 3
   },
   "file_extension": ".py",
   "mimetype": "text/x-python",
   "name": "python",
   "nbconvert_exporter": "python",
   "pygments_lexer": "ipython3",
   "version": "3.6.8"
  }
 },
 "nbformat": 4,
 "nbformat_minor": 2
}
