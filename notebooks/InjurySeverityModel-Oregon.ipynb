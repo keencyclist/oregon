{
 "cells": [
  {
   "cell_type": "markdown",
   "metadata": {},
   "source": [
    "# Oregon Bicycle-Motor Vehicle Collisions 2009 - 2019\n",
    "### Data from ODOT\n",
    "\n",
    "Data was provided as annual MS Access databases. I created a query to extract bicycle-involved crashes with bicyclist information and, in a separate query and file, motorist and vehicle for the same crash numbers. I exported the annual files, two per year, to xlsx format."
   ]
  },
  {
   "cell_type": "markdown",
   "metadata": {},
   "source": [
    "### Documentation of queries \n",
    "#### Query to produce bicycle_crashes.xlsx\n",
    "\n",
    "```\n",
    "SELECT CRASH.*, PARTIC.*, COLLIS_TYP.COLLIS_TYP_LONG_DESC, NON_MOTRST_LOC.NON_MOTRST_LOC_LONG_DESC, ACTN.ACTN_LONG_DESC, ERR.CRASH_ERR_LONG_DESC, CAUSE.CAUSE_LONG_DESC, CAUSE_1.CAUSE_LONG_DESC, EVNT.EVNT_LONG_DESC, MVMNT.MVMNT_LONG_DESC, CAUSE_2.CAUSE_LONG_DESC, CAUSE_3.CAUSE_LONG_DESC\n",
    "\n",
    "FROM (CAUSE AS CAUSE_3 RIGHT JOIN \n",
    "        (CAUSE AS CAUSE_2 RIGHT JOIN \n",
    "            (MVMNT INNER JOIN \n",
    "                (EVNT RIGHT JOIN \n",
    "                    (CAUSE AS CAUSE_1 RIGHT JOIN \n",
    "                        (CAUSE RIGHT JOIN \n",
    "                            (ERR RIGHT JOIN \n",
    "                                (ACTN RIGHT JOIN \n",
    "                                ((CRASH INNER JOIN PARTIC ON CRASH.CRASH_ID = PARTIC.CRASH_ID) INNER JOIN NON_MOTRST_LOC \n",
    "                                  ON (PARTIC.NON_MOTRST_LOC_CD = NON_MOTRST_LOC.NON_MOTRST_LOC_CD) AND \n",
    "                                    (PARTIC.NON_MOTRST_LOC_CD = NON_MOTRST_LOC.NON_MOTRST_LOC_CD)) \n",
    "                            ON ACTN.ACTN_CD = PARTIC.ACTN_CD) \n",
    "                         ON ERR.CRASH_ERR_CD = PARTIC.PARTIC_ERR_1_CD) \n",
    "                    ON CAUSE.CAUSE_CD = PARTIC.PARTIC_CAUSE_1_CD) \n",
    "                ON CAUSE_1.CAUSE_CD = PARTIC.PARTIC_CAUSE_2_CD) \n",
    "            ON EVNT.EVNT_CD = PARTIC.PARTIC_EVNT_1_CD) \n",
    "        ON MVMNT.MVMNT_CD = PARTIC.MVMNT_CD) \n",
    "    ON CAUSE_2.CAUSE_CD = CRASH.CRASH_CAUSE_1_CD) \n",
    "ON CAUSE_3.CAUSE_CD = CRASH.CRASH_CAUSE_2_CD) \n",
    "LEFT JOIN COLLIS_TYP ON CRASH.COLLIS_TYP_CD = COLLIS_TYP.COLLIS_TYP_CD\n",
    "\n",
    "WHERE (((PARTIC.PARTIC_TYP_CD)=\"6\" Or (PARTIC.PARTIC_TYP_CD)=\"7\"));\n",
    "```"
   ]
  },
  {
   "cell_type": "markdown",
   "metadata": {},
   "source": [
    "#### Query to produce bicycle_crashes_motorist.xlsx\n",
    "\n",
    "```\n",
    "SELECT VHCL.*, PARTIC.*, ERR.CRASH_ERR_LONG_DESC, CAUSE.CAUSE_LONG_DESC, EVNT.EVNT_LONG_DESC, MVMNT.MVMNT_LONG_DESC, ACTN.ACTN_LONG_DESC\n",
    "\n",
    "FROM ACTN INNER JOIN ((((CAUSE RIGHT JOIN (MVMNT RIGHT JOIN VHCL ON MVMNT.MVMNT_CD = VHCL.MVMNT_CD) ON CAUSE.CAUSE_CD = VHCL.VHCL_CAUSE_1_CD) INNER JOIN CRASH_KEY_XREF ON VHCL.VHCL_ID = CRASH_KEY_XREF.VHCL_ID) INNER JOIN bicycle_crashes ON CRASH_KEY_XREF.CRASH_ID = bicycle_crashes.CRASH.CRASH_ID) INNER JOIN (EVNT RIGHT JOIN (ERR RIGHT JOIN PARTIC ON ERR.CRASH_ERR_CD = PARTIC.PARTIC_ERR_1_CD) ON EVNT.EVNT_CD = PARTIC.PARTIC_EVNT_1_CD) ON CRASH_KEY_XREF.PARTIC_ID = PARTIC.PARTIC_ID) ON ACTN.ACTN_CD = VHCL.ACTN_CD\n",
    "\n",
    "WHERE (((PARTIC.PARTIC_TYP_CD)=\"1\"));\n",
    "```"
   ]
  },
  {
   "cell_type": "markdown",
   "metadata": {},
   "source": [
    "## Injury Severity Model"
   ]
  },
  {
   "cell_type": "markdown",
   "metadata": {},
   "source": [
    "#### Import necessary libraries"
   ]
  },
  {
   "cell_type": "code",
   "execution_count": 1,
   "metadata": {},
   "outputs": [],
   "source": [
    "import pandas as pd\n",
    "import statsmodels.api as sm\n",
    "import statsmodels.formula.api as smf\n",
    "import numpy as np\n",
    "import matplotlib.pyplot as plt\n",
    "import matplotlib.ticker as ticker"
   ]
  },
  {
   "cell_type": "markdown",
   "metadata": {},
   "source": [
    "#### Read processed data."
   ]
  },
  {
   "cell_type": "code",
   "execution_count": 9,
   "metadata": {},
   "outputs": [],
   "source": [
    "crashes = pd.read_excel('../data/bicycle_crashes.xlsx', index=False)\n",
    "motorists = pd.read_excel('../data/bicycle_crashes_motorist.xlsx', index=False)"
   ]
  },
  {
   "cell_type": "markdown",
   "metadata": {},
   "source": [
    "### Create a flat analysis file by merging processed data."
   ]
  },
  {
   "cell_type": "code",
   "execution_count": 10,
   "metadata": {},
   "outputs": [
    {
     "data": {
      "text/plain": [
       "(9180, 210)"
      ]
     },
     "execution_count": 10,
     "metadata": {},
     "output_type": "execute_result"
    }
   ],
   "source": [
    "crashes.shape"
   ]
  },
  {
   "cell_type": "code",
   "execution_count": 11,
   "metadata": {},
   "outputs": [
    {
     "data": {
      "text/plain": [
       "(9239, 97)"
      ]
     },
     "execution_count": 11,
     "metadata": {},
     "output_type": "execute_result"
    }
   ],
   "source": [
    "motorists.shape"
   ]
  },
  {
   "cell_type": "markdown",
   "metadata": {},
   "source": [
    "There were 9,180 crashes of which 9,092 involved 1 MV, 81 involved 2, and 7 involved 3.\n",
    "9,008 involved 1 bicyclist. 160 involved 2 bicyclists, and 12 involved 3 bicyclists.\n",
    "\n",
    "Model uses all bicyclists."
   ]
  },
  {
   "cell_type": "code",
   "execution_count": 23,
   "metadata": {},
   "outputs": [
    {
     "data": {
      "text/plain": [
       "INJB    5157\n",
       "INJC    3122\n",
       "INJA     580\n",
       "NONE     234\n",
       "KILL      86\n",
       "NO<5       1\n",
       "Name: INJ_SVRTY_SHORT_DESC, dtype: int64"
      ]
     },
     "execution_count": 23,
     "metadata": {},
     "output_type": "execute_result"
    }
   ],
   "source": [
    "crashes.INJ_SVRTY_SHORT_DESC.value_counts()"
   ]
  },
  {
   "cell_type": "code",
   "execution_count": 32,
   "metadata": {},
   "outputs": [
    {
     "data": {
      "text/plain": [
       "False    9047\n",
       "True      133\n",
       "Name: CRASH_SPEED_INVLV_FLG, dtype: int64"
      ]
     },
     "execution_count": 32,
     "metadata": {},
     "output_type": "execute_result"
    }
   ],
   "source": [
    "crashes.CRASH_SPEED_INVLV_FLG.value_counts()"
   ]
  },
  {
   "cell_type": "code",
   "execution_count": 12,
   "metadata": {},
   "outputs": [
    {
     "data": {
      "text/plain": [
       "0    8514\n",
       "1     666\n",
       "Name: inj_KA, dtype: int64"
      ]
     },
     "execution_count": 12,
     "metadata": {},
     "output_type": "execute_result"
    }
   ],
   "source": [
    "# recode\n",
    "crashes['inj_KA'] = crashes.INJ_SVRTY_CD.apply(lambda x: 1 if x in [1,2] else 0)\n",
    "crashes['inj_KA'].value_counts()"
   ]
  },
  {
   "cell_type": "code",
   "execution_count": 95,
   "metadata": {},
   "outputs": [
    {
     "data": {
      "text/plain": [
       "0    7980\n",
       "1    1200\n",
       "Name: midblock, dtype: int64"
      ]
     },
     "execution_count": 95,
     "metadata": {},
     "output_type": "execute_result"
    }
   ],
   "source": [
    "# create midblock based on filter for road char ! = \"Driveway / Alley\" or \"Interesection\" AND crash not intersection-related\n",
    "mask = ((crashes.RD_CHAR_CD > 2) & (crashes.ISECT_REL_FLG == False))\n",
    "crashes['midblock'] = 0\n",
    "crashes.loc[mask,'midblock'] = 1\n",
    " \n",
    "crashes['midblock'].value_counts()"
   ]
  },
  {
   "cell_type": "code",
   "execution_count": 14,
   "metadata": {},
   "outputs": [
    {
     "data": {
      "text/plain": [
       "0    9020\n",
       "1     160\n",
       "Name: HitRun, dtype: int64"
      ]
     },
     "execution_count": 14,
     "metadata": {},
     "output_type": "execute_result"
    }
   ],
   "source": [
    "# create Hit & Run based on Hit & Run collision but not on the part of the bicyclist (who is the 'participant' in this extract)\n",
    "mask = ((crashes.CRASH_HIT_RUN_FLG == True) & (crashes.PARTIC_HIT_RUN_FLG == False))\n",
    "crashes['HitRun'] = 0\n",
    "crashes.loc[mask,'HitRun'] = 1\n",
    " \n",
    "crashes['HitRun'].value_counts()"
   ]
  },
  {
   "cell_type": "code",
   "execution_count": 16,
   "metadata": {},
   "outputs": [
    {
     "data": {
      "text/plain": [
       "0    9164\n",
       "1      16\n",
       "Name: drug, dtype: int64"
      ]
     },
     "execution_count": 16,
     "metadata": {},
     "output_type": "execute_result"
    }
   ],
   "source": [
    "# drug use is based on a crash involving drugs but bicyclist drug use not reported\n",
    "mask = ((crashes.DRUG_INVLV_FLG == True) & (crashes.DRUG_USE_RPT_IND == False))\n",
    "crashes['drug'] = 0\n",
    "crashes.loc[mask,'drug'] = 1\n",
    " \n",
    "crashes['drug'].value_counts()"
   ]
  },
  {
   "cell_type": "code",
   "execution_count": 17,
   "metadata": {},
   "outputs": [
    {
     "data": {
      "text/plain": [
       "0    9133\n",
       "1      47\n",
       "Name: alcohol, dtype: int64"
      ]
     },
     "execution_count": 17,
     "metadata": {},
     "output_type": "execute_result"
    }
   ],
   "source": [
    "# alcohol use is based on a crash involving drugs but bicyclist alcohol use not reported\n",
    "mask = ((crashes.ALCHL_INVLV_FLG == True) & (crashes.ALCHL_USE_RPT_IND == False))\n",
    "crashes['alcohol'] = 0\n",
    "crashes.loc[mask,'alcohol'] = 1\n",
    " \n",
    "crashes['alcohol'].value_counts()"
   ]
  },
  {
   "cell_type": "code",
   "execution_count": 18,
   "metadata": {},
   "outputs": [
    {
     "data": {
      "text/plain": [
       "0    9047\n",
       "1     133\n",
       "Name: speed, dtype: int64"
      ]
     },
     "execution_count": 18,
     "metadata": {},
     "output_type": "execute_result"
    }
   ],
   "source": [
    "# recode as 1/0 dummy\n",
    "crashes['speed'] = crashes.CRASH_SPEED_INVLV_FLG.apply(lambda x: 1 if x == True else 0)\n",
    "crashes['speed'].value_counts()"
   ]
  },
  {
   "cell_type": "code",
   "execution_count": 19,
   "metadata": {
    "scrolled": true
   },
   "outputs": [
    {
     "data": {
      "text/plain": [
       "URBAN CITY STREET       3873\n",
       "PORTLAND CITY STREET    2650\n",
       "URBAN HWY SYSTEM        1242\n",
       "SUBURBAN COUNTY ROAD     423\n",
       "PORTLAND HWY SYSTEM      340\n",
       "RURAL HWY SYSTEM         209\n",
       "SUBURBAN HWY SYSTEM      207\n",
       "RURAL COUNTY ROAD        175\n",
       "RURAL CITY STREET         61\n",
       "Name: RD_CNTL_MED_DESC, dtype: int64"
      ]
     },
     "execution_count": 19,
     "metadata": {},
     "output_type": "execute_result"
    }
   ],
   "source": [
    "crashes.RD_CNTL_MED_DESC.value_counts(dropna=False)"
   ]
  },
  {
   "cell_type": "code",
   "execution_count": 20,
   "metadata": {},
   "outputs": [
    {
     "data": {
      "text/plain": [
       "City Street      6584\n",
       "Rural             384\n",
       "Suburban          630\n",
       "Urban Highway    1582\n",
       "Name: RoadClass, dtype: int64"
      ]
     },
     "execution_count": 20,
     "metadata": {},
     "output_type": "execute_result"
    }
   ],
   "source": [
    "# recode road class\n",
    "def recode_roadclass(x):\n",
    "    if  x  in ('URBAN CITY STREET','PORTLAND CITY STREET','RURAL CITY STREET'):\n",
    "        return 'City Street' \n",
    "    elif x in ('URBAN HWY SYSTEM','PORTLAND HWY SYSTEM'):\n",
    "        return 'Urban Highway'\n",
    "    elif x in ('RURAL HWY SYSTEM','RURAL COUNTY ROAD'):\n",
    "        return 'Rural'\n",
    "    elif x in ('SUBURBAN COUNTY ROAD','SUBURBAN HWY SYSTEM'):\n",
    "        return 'Suburban'  \n",
    "crashes['RoadClass'] = crashes.RD_CNTL_MED_DESC.apply(recode_roadclass)\n",
    "crashes['RoadClass'].value_counts().sort_index()"
   ]
  },
  {
   "cell_type": "code",
   "execution_count": 21,
   "metadata": {},
   "outputs": [
    {
     "data": {
      "text/plain": [
       "HELM     1785\n",
       "I-HLM       9\n",
       "NONE     2652\n",
       "UNK      4734\n",
       "Name: SFTY_EQUIP_USE_SHORT_DESC, dtype: int64"
      ]
     },
     "execution_count": 21,
     "metadata": {},
     "output_type": "execute_result"
    }
   ],
   "source": [
    "# I-HLM = improper helmet use -- do not include in Helmet\n",
    "crashes.SFTY_EQUIP_USE_SHORT_DESC.value_counts(dropna=False).sort_index()"
   ]
  },
  {
   "cell_type": "code",
   "execution_count": 22,
   "metadata": {},
   "outputs": [
    {
     "data": {
      "text/plain": [
       "0    7395\n",
       "1    1785\n",
       "Name: Helmet, dtype: int64"
      ]
     },
     "execution_count": 22,
     "metadata": {},
     "output_type": "execute_result"
    }
   ],
   "source": [
    "# create separate dummies for Helmet used and Helmet not used (with remaining category of Unknown)\n",
    "crashes['Helmet'] = crashes.SFTY_EQUIP_USE_SHORT_DESC.apply(lambda x: 1 if x == \"HELM\" else 0)\n",
    "crashes['NoHelmet'] = crashes.SFTY_EQUIP_USE_SHORT_DESC.apply(lambda x: 1 if x == \"NONE\" else 0)\n",
    "crashes['Helmet'].value_counts()"
   ]
  },
  {
   "cell_type": "code",
   "execution_count": 23,
   "metadata": {},
   "outputs": [
    {
     "data": {
      "text/plain": [
       "10–14            617\n",
       "15-19            999\n",
       "20-29           2224\n",
       "30–39           1438\n",
       "40-49           1250\n",
       "50–59           1040\n",
       "60-69            470\n",
       "70 or more       183\n",
       "Less than 10     191\n",
       "Unknown          768\n",
       "Name: AgeGroup, dtype: int64"
      ]
     },
     "execution_count": 23,
     "metadata": {},
     "output_type": "execute_result"
    }
   ],
   "source": [
    "# recode age into age groups\n",
    "def recode_age(x):\n",
    "    if x == 0:\n",
    "        return 'Unknown'\n",
    "    elif  x  <= 9:\n",
    "        return 'Less than 10' \n",
    "    elif x >= 10 and x <=14:\n",
    "        return '10–14'\n",
    "    elif x >= 15 and x <=19:\n",
    "        return '15-19'\n",
    "    elif x >= 20 and x <=29:\n",
    "        return '20-29'  \n",
    "    elif x >= 30 and x <=39:\n",
    "        return '30–39'\n",
    "    elif x >= 40 and x <=49:\n",
    "        return '40-49'\n",
    "    elif x >= 50 and x <=59:\n",
    "        return '50–59'\n",
    "    elif x >= 60 and x <=69:\n",
    "        return '60-69'    \n",
    "    elif x >= 70:\n",
    "        return '70 or more'\n",
    "crashes['AgeGroup'] = crashes.AGE_VAL.apply(recode_age)\n",
    "\n",
    "crashes['AgeGroup'].value_counts().sort_index()"
   ]
  },
  {
   "cell_type": "code",
   "execution_count": 24,
   "metadata": {},
   "outputs": [
    {
     "data": {
      "text/plain": [
       "nan         4689\n",
       "35.00000    1386\n",
       "25.00000    1205\n",
       "30.00000     533\n",
       "45.00000     393\n",
       "40.00000     292\n",
       "55.00000     250\n",
       "20.00000     183\n",
       "0.00000      120\n",
       "50.00000     100\n",
       "15.00000       9\n",
       "65.00000       8\n",
       "60.00000       7\n",
       "5.00000        2\n",
       "10.00000       1\n",
       "7.00000        1\n",
       "3.00000        1\n",
       "Name: POST_SPEED_LMT_VAL, dtype: int64"
      ]
     },
     "execution_count": 24,
     "metadata": {},
     "output_type": "execute_result"
    }
   ],
   "source": [
    "crashes.POST_SPEED_LMT_VAL.value_counts(dropna=False)"
   ]
  },
  {
   "cell_type": "code",
   "execution_count": 25,
   "metadata": {},
   "outputs": [
    {
     "data": {
      "text/plain": [
       "Unknown       4689\n",
       "30-35         1919\n",
       "25 or less    1522\n",
       "40-45          685\n",
       "50+            365\n",
       "Name: PSL, dtype: int64"
      ]
     },
     "execution_count": 25,
     "metadata": {},
     "output_type": "execute_result"
    }
   ],
   "source": [
    "# recode speed. First replace nulls with 99\n",
    "crashes.POST_SPEED_LMT_VAL.replace(np.nan,99, inplace=True)\n",
    "def recode_speed(x):\n",
    "    if x == 99:\n",
    "        return 'Unknown'     \n",
    "    elif  x  >= 50:\n",
    "        return '50+' \n",
    "    elif x in [40,45]:\n",
    "        return '40-45'\n",
    "    elif x in [30,35]:\n",
    "        return '30-35'\n",
    "    elif x <= 25:\n",
    "        return '25 or less'\n",
    "      \n",
    "crashes['PSL'] = crashes.POST_SPEED_LMT_VAL.apply(recode_speed)\n",
    "\n",
    "crashes['PSL'].value_counts()"
   ]
  },
  {
   "cell_type": "code",
   "execution_count": 26,
   "metadata": {},
   "outputs": [
    {
     "data": {
      "text/plain": [
       "DARK     312\n",
       "DAWN     213\n",
       "DAY     7117\n",
       "DLIT    1087\n",
       "DUSK     441\n",
       "UNK       10\n",
       "Name: LGT_COND_SHORT_DESC, dtype: int64"
      ]
     },
     "execution_count": 26,
     "metadata": {},
     "output_type": "execute_result"
    }
   ],
   "source": [
    "crashes.LGT_COND_SHORT_DESC.value_counts().sort_index()"
   ]
  },
  {
   "cell_type": "code",
   "execution_count": 46,
   "metadata": {},
   "outputs": [
    {
     "data": {
      "text/plain": [
       "1 Day                  7117\n",
       "Dark unlit              312\n",
       "Dark, street lights    1087\n",
       "Dawn                    213\n",
       "Dusk                    441\n",
       "Unknown                  10\n",
       "Name: Lighting, dtype: int64"
      ]
     },
     "execution_count": 46,
     "metadata": {},
     "output_type": "execute_result"
    }
   ],
   "source": [
    "# recode lighting condition\n",
    "def recode_light(x):\n",
    "    if x == 'DAY':\n",
    "        return '1 Day'\n",
    "    elif  x  == 'DARK':\n",
    "        return 'Dark unlit' \n",
    "    elif x == 'DLIT':\n",
    "        return 'Dark, street lights'\n",
    "    elif x == 'DUSK':\n",
    "        return 'Dusk'\n",
    "    elif x == 'DAWN':\n",
    "        return 'Dawn'  \n",
    "    elif x == 'UNK': \n",
    "        return 'Unknown'\n",
    "    \n",
    "crashes['Lighting'] = crashes.LGT_COND_SHORT_DESC.apply(recode_light)\n",
    "\n",
    "crashes['Lighting'].value_counts().sort_index()"
   ]
  },
  {
   "cell_type": "code",
   "execution_count": 28,
   "metadata": {},
   "outputs": [
    {
     "data": {
      "text/plain": [
       "0    6921\n",
       "1    2259\n",
       "Name: Female, dtype: int64"
      ]
     },
     "execution_count": 28,
     "metadata": {},
     "output_type": "execute_result"
    }
   ],
   "source": [
    "# create 1/0 dummy\n",
    "crashes['Female'] = crashes.SEX_CD.apply(lambda x: 1 if x == 2 else 0)\n",
    "crashes['Female'].value_counts()"
   ]
  },
  {
   "cell_type": "code",
   "execution_count": 29,
   "metadata": {},
   "outputs": [
    {
     "data": {
      "text/plain": [
       "1    6562\n",
       "0    2618\n",
       "Name: Struck, dtype: int64"
      ]
     },
     "execution_count": 29,
     "metadata": {},
     "output_type": "execute_result"
    }
   ],
   "source": [
    "# create 1/0 dummy\n",
    "crashes['Struck'] = crashes.STRIKG_PARTIC_FLG.apply(lambda x: 0 if x == 1 else 1)\n",
    "crashes['Struck'].value_counts()"
   ]
  },
  {
   "cell_type": "code",
   "execution_count": 33,
   "metadata": {},
   "outputs": [
    {
     "data": {
      "text/plain": [
       "Turning movement                5513\n",
       "Angle                           2668\n",
       "Sideswipe - Overtaking           416\n",
       "Rear-End                         315\n",
       "Head-On                           73\n",
       "Sideswipe - Meeting               56\n",
       "Parking Maneuver                  53\n",
       "Backing                           45\n",
       "Miscellaneous                     29\n",
       "Fixed Object or Other Object      10\n",
       "Pedestrian                         1\n",
       "Non-collision                      1\n",
       "Name: COLLIS_TYP_LONG_DESC, dtype: int64"
      ]
     },
     "execution_count": 33,
     "metadata": {},
     "output_type": "execute_result"
    }
   ],
   "source": [
    "crashes.COLLIS_TYP_LONG_DESC.value_counts()"
   ]
  },
  {
   "cell_type": "code",
   "execution_count": 40,
   "metadata": {},
   "outputs": [
    {
     "data": {
      "text/plain": [
       "Turning movement          5513\n",
       "Angle                     2668\n",
       "Sideswipe - Overtaking     416\n",
       "Rear-End                   315\n",
       "Head-On                     73\n",
       "Sideswipe - Meeting         56\n",
       "Parking Maneuver            53\n",
       "Backing                     45\n",
       "Other                       41\n",
       "Name: COLLISION_TYPE, dtype: int64"
      ]
     },
     "execution_count": 40,
     "metadata": {},
     "output_type": "execute_result"
    }
   ],
   "source": [
    "# recoode collision type\n",
    "crashes['COLLISION_TYPE'] = crashes.COLLIS_TYP_LONG_DESC\n",
    "\n",
    "crashes.COLLISION_TYPE = crashes.COLLISION_TYPE.replace(['Miscellaneous','Fixed Object or Other Object','Non-collision',\n",
    "                                                              'Pedestrian'],'Other')\n",
    "crashes.COLLISION_TYPE.value_counts()"
   ]
  },
  {
   "cell_type": "code",
   "execution_count": 41,
   "metadata": {},
   "outputs": [],
   "source": [
    "# if ANY mv involved in a crash is a large truck, code it as truck-involved, but keep the same number of crash records\n",
    "motorists['Truck'] = motorists.VHCL_TYP_CD.apply(lambda x: 1 if x in (2,4,5,11) else 0)\n",
    "Trucks = motorists.groupby(['VHCL_CRASH_ID'])['Truck'].max().reset_index()\n",
    "crashes = pd.merge(crashes,Trucks,left_on='CRASH_CRASH_ID',right_on='VHCL_CRASH_ID',how='left')"
   ]
  },
  {
   "cell_type": "code",
   "execution_count": 42,
   "metadata": {},
   "outputs": [],
   "source": [
    "# if ANY mv involved in a crash is a bus, code it as bus-involved, but keep the same number of crash records\n",
    "motorists['Bus'] = motorists.VHCL_TYP_CD.apply(lambda x: 1 if x in (7,8) else 0)\n",
    "Buses = motorists.groupby(['VHCL_CRASH_ID'])['Bus'].max().reset_index()\n",
    "crashes = pd.merge(crashes,Buses,left_on='CRASH_CRASH_ID',right_on='VHCL_CRASH_ID',how='left')"
   ]
  },
  {
   "cell_type": "code",
   "execution_count": 43,
   "metadata": {},
   "outputs": [
    {
     "data": {
      "text/plain": [
       "(9180, 229)"
      ]
     },
     "execution_count": 43,
     "metadata": {},
     "output_type": "execute_result"
    }
   ],
   "source": [
    "crashes.shape"
   ]
  },
  {
   "cell_type": "markdown",
   "metadata": {},
   "source": [
    "### Save processed and recoded flat file."
   ]
  },
  {
   "cell_type": "code",
   "execution_count": 96,
   "metadata": {},
   "outputs": [],
   "source": [
    "crashes.to_csv('../data/crash_processed.csv')"
   ]
  },
  {
   "cell_type": "markdown",
   "metadata": {},
   "source": [
    "### Run injury severity models."
   ]
  },
  {
   "cell_type": "code",
   "execution_count": 2,
   "metadata": {
    "scrolled": true
   },
   "outputs": [
    {
     "name": "stderr",
     "output_type": "stream",
     "text": [
      "C:\\Users\\pauls\\.conda\\envs\\dsi\\lib\\site-packages\\IPython\\core\\interactiveshell.py:3049: DtypeWarning: Columns (74,75,82,100,150,165) have mixed types. Specify dtype option on import or set low_memory=False.\n",
      "  interactivity=interactivity, compiler=compiler, result=result)\n"
     ]
    }
   ],
   "source": [
    "# open model data file\n",
    "crashes = pd.read_csv('../data/crash_processed.csv')"
   ]
  },
  {
   "cell_type": "markdown",
   "metadata": {},
   "source": [
    "#### Model 1. All observations"
   ]
  },
  {
   "cell_type": "code",
   "execution_count": 8,
   "metadata": {},
   "outputs": [],
   "source": [
    "# set print output to 5 digits (not scientific)\n",
    "pd.set_option('display.float_format', lambda x: '%.5f' % x)"
   ]
  },
  {
   "cell_type": "code",
   "execution_count": 17,
   "metadata": {},
   "outputs": [
    {
     "name": "stdout",
     "output_type": "stream",
     "text": [
      "                 Generalized Linear Model Regression Results                  \n",
      "==============================================================================\n",
      "Dep. Variable:                 inj_KA   No. Observations:                 9161\n",
      "Model:                            GLM   Df Residuals:                     9119\n",
      "Model Family:                Binomial   Df Model:                           41\n",
      "Link Function:                  logit   Scale:                          1.0000\n",
      "Method:                          IRLS   Log-Likelihood:                -2191.6\n",
      "Date:                Sun, 15 Nov 2020   Deviance:                       4383.1\n",
      "Time:                        23:44:42   Pearson chi2:                 9.27e+03\n",
      "No. Iterations:                     7   Covariance Type:             nonrobust\n",
      "===============================================================================================================\n",
      "                                                  coef    std err          z      P>|z|      [0.025      0.975]\n",
      "---------------------------------------------------------------------------------------------------------------\n",
      "Intercept                                      -3.0414      0.210    -14.455      0.000      -3.454      -2.629\n",
      "C(AgeGroup)[T.15-19]                           -0.2559      0.212     -1.204      0.228      -0.672       0.160\n",
      "C(AgeGroup)[T.20-29]                            0.0182      0.184      0.099      0.921      -0.342       0.378\n",
      "C(AgeGroup)[T.30–39]                           -0.0235      0.194     -0.121      0.904      -0.403       0.356\n",
      "C(AgeGroup)[T.40-49]                           -0.0113      0.197     -0.058      0.954      -0.396       0.374\n",
      "C(AgeGroup)[T.50–59]                            0.4298      0.192      2.244      0.025       0.054       0.805\n",
      "C(AgeGroup)[T.60-69]                            0.4536      0.221      2.056      0.040       0.021       0.886\n",
      "C(AgeGroup)[T.70 or more]                       0.7556      0.269      2.813      0.005       0.229       1.282\n",
      "C(AgeGroup)[T.Less than 10]                    -1.3366      0.532     -2.513      0.012      -2.379      -0.294\n",
      "C(AgeGroup)[T.Unknown]                         -0.9971      0.305     -3.271      0.001      -1.595      -0.400\n",
      "C(RoadClass)[T.Rural]                           0.7741      0.168      4.599      0.000       0.444       1.104\n",
      "C(RoadClass)[T.Suburban]                        0.1648      0.159      1.039      0.299      -0.146       0.476\n",
      "C(RoadClass)[T.Urban Highway]                  -0.0249      0.123     -0.203      0.839      -0.265       0.215\n",
      "C(PSL)[T.30-35]                                 0.1654      0.143      1.154      0.248      -0.115       0.446\n",
      "C(PSL)[T.40-45]                                 0.5121      0.170      3.007      0.003       0.178       0.846\n",
      "C(PSL)[T.50+]                                   0.3131      0.209      1.497      0.134      -0.097       0.723\n",
      "C(PSL)[T.Unknown]                               0.0178      0.128      0.139      0.889      -0.233       0.268\n",
      "C(COLLISION_TYPE)[T.Backing]                   -1.2130      1.019     -1.190      0.234      -3.211       0.785\n",
      "C(COLLISION_TYPE)[T.Head-On]                    0.6990      0.308      2.268      0.023       0.095       1.303\n",
      "C(COLLISION_TYPE)[T.Other]                     -0.4531      0.566     -0.801      0.423      -1.562       0.656\n",
      "C(COLLISION_TYPE)[T.Parking Maneuver]          -1.2181      0.736     -1.655      0.098      -2.661       0.225\n",
      "C(COLLISION_TYPE)[T.Rear-End]                  -0.0451      0.201     -0.225      0.822      -0.439       0.349\n",
      "C(COLLISION_TYPE)[T.Sideswipe - Meeting]       -0.2251      0.429     -0.525      0.599      -1.065       0.615\n",
      "C(COLLISION_TYPE)[T.Sideswipe - Overtaking]    -0.3550      0.204     -1.744      0.081      -0.754       0.044\n",
      "C(COLLISION_TYPE)[T.Turning movement]          -0.3408      0.098     -3.485      0.000      -0.533      -0.149\n",
      "C(Lighting)[T.Dark unlit]                       0.4556      0.189      2.409      0.016       0.085       0.826\n",
      "C(Lighting)[T.Dark, street lights]              0.2949      0.125      2.364      0.018       0.050       0.539\n",
      "C(Lighting)[T.Dawn]                            -0.3238      0.332     -0.975      0.329      -0.974       0.327\n",
      "C(Lighting)[T.Dusk]                             0.1920      0.189      1.017      0.309      -0.178       0.562\n",
      "C(Lighting)[T.Unknown]                          0.3703      1.094      0.339      0.735      -1.773       2.514\n",
      "Truck                                           1.4237      0.265      5.382      0.000       0.905       1.942\n",
      "midblock                                        0.6239      0.134      4.667      0.000       0.362       0.886\n",
      "Truck:midblock                                 -0.9996      0.548     -1.824      0.068      -2.074       0.075\n",
      "Struck                                          0.1183      0.098      1.210      0.226      -0.073       0.310\n",
      "Helmet                                          0.4266      0.108      3.949      0.000       0.215       0.638\n",
      "NoHelmet                                        0.2613      0.100      2.606      0.009       0.065       0.458\n",
      "HitRun                                          0.2162      0.266      0.814      0.415      -0.304       0.737\n",
      "Bus                                            -0.2650      0.605     -0.438      0.661      -1.451       0.921\n",
      "Female                                          0.0185      0.099      0.187      0.851      -0.175       0.212\n",
      "alcohol                                         0.5556      0.426      1.303      0.192      -0.280       1.391\n",
      "drug                                            1.1295      0.604      1.871      0.061      -0.053       2.312\n",
      "speed                                           0.9322      0.238      3.911      0.000       0.465       1.399\n",
      "===============================================================================================================\n"
     ]
    }
   ],
   "source": [
    "# binomial logit using glm - All Observations\n",
    "formula = 'inj_KA ~  Truck*midblock + midblock + Struck + Helmet + NoHelmet + HitRun + Bus + Truck + Female + C(AgeGroup) + C(RoadClass) + C(PSL) + C(COLLISION_TYPE) + C(Lighting) + alcohol + drug + speed'\n",
    "model = smf.glm(formula = formula, data=crashes, family=sm.families.Binomial())\n",
    "result = model.fit()\n",
    "print(result.summary())"
   ]
  },
  {
   "cell_type": "code",
   "execution_count": 18,
   "metadata": {},
   "outputs": [
    {
     "data": {
      "text/html": [
       "<div>\n",
       "<style scoped>\n",
       "    .dataframe tbody tr th:only-of-type {\n",
       "        vertical-align: middle;\n",
       "    }\n",
       "\n",
       "    .dataframe tbody tr th {\n",
       "        vertical-align: top;\n",
       "    }\n",
       "\n",
       "    .dataframe thead th {\n",
       "        text-align: right;\n",
       "    }\n",
       "</style>\n",
       "<table border=\"1\" class=\"dataframe\">\n",
       "  <thead>\n",
       "    <tr style=\"text-align: right;\">\n",
       "      <th></th>\n",
       "      <th>5%</th>\n",
       "      <th>95%</th>\n",
       "      <th>Odds Ratio</th>\n",
       "    </tr>\n",
       "  </thead>\n",
       "  <tbody>\n",
       "    <tr>\n",
       "      <th>Intercept</th>\n",
       "      <td>0.03162</td>\n",
       "      <td>0.07215</td>\n",
       "      <td>0.04777</td>\n",
       "    </tr>\n",
       "    <tr>\n",
       "      <th>C(AgeGroup)[T.15-19]</th>\n",
       "      <td>0.51058</td>\n",
       "      <td>1.17408</td>\n",
       "      <td>0.77425</td>\n",
       "    </tr>\n",
       "    <tr>\n",
       "      <th>C(AgeGroup)[T.20-29]</th>\n",
       "      <td>0.71061</td>\n",
       "      <td>1.45952</td>\n",
       "      <td>1.01840</td>\n",
       "    </tr>\n",
       "    <tr>\n",
       "      <th>C(AgeGroup)[T.30–39]</th>\n",
       "      <td>0.66816</td>\n",
       "      <td>1.42799</td>\n",
       "      <td>0.97679</td>\n",
       "    </tr>\n",
       "    <tr>\n",
       "      <th>C(AgeGroup)[T.40-49]</th>\n",
       "      <td>0.67269</td>\n",
       "      <td>1.45334</td>\n",
       "      <td>0.98876</td>\n",
       "    </tr>\n",
       "    <tr>\n",
       "      <th>C(AgeGroup)[T.50–59]</th>\n",
       "      <td>1.05600</td>\n",
       "      <td>2.23706</td>\n",
       "      <td>1.53699</td>\n",
       "    </tr>\n",
       "    <tr>\n",
       "      <th>C(AgeGroup)[T.60-69]</th>\n",
       "      <td>1.02133</td>\n",
       "      <td>2.42562</td>\n",
       "      <td>1.57396</td>\n",
       "    </tr>\n",
       "    <tr>\n",
       "      <th>C(AgeGroup)[T.70 or more]</th>\n",
       "      <td>1.25759</td>\n",
       "      <td>3.60419</td>\n",
       "      <td>2.12899</td>\n",
       "    </tr>\n",
       "    <tr>\n",
       "      <th>C(AgeGroup)[T.Less than 10]</th>\n",
       "      <td>0.09266</td>\n",
       "      <td>0.74510</td>\n",
       "      <td>0.26275</td>\n",
       "    </tr>\n",
       "    <tr>\n",
       "      <th>C(AgeGroup)[T.Unknown]</th>\n",
       "      <td>0.20299</td>\n",
       "      <td>0.67054</td>\n",
       "      <td>0.36893</td>\n",
       "    </tr>\n",
       "    <tr>\n",
       "      <th>C(RoadClass)[T.Rural]</th>\n",
       "      <td>1.55921</td>\n",
       "      <td>3.01636</td>\n",
       "      <td>2.16867</td>\n",
       "    </tr>\n",
       "    <tr>\n",
       "      <th>C(RoadClass)[T.Suburban]</th>\n",
       "      <td>0.86394</td>\n",
       "      <td>1.60952</td>\n",
       "      <td>1.17921</td>\n",
       "    </tr>\n",
       "    <tr>\n",
       "      <th>C(RoadClass)[T.Urban Highway]</th>\n",
       "      <td>0.76711</td>\n",
       "      <td>1.24020</td>\n",
       "      <td>0.97538</td>\n",
       "    </tr>\n",
       "    <tr>\n",
       "      <th>C(PSL)[T.30-35]</th>\n",
       "      <td>0.89100</td>\n",
       "      <td>1.56238</td>\n",
       "      <td>1.17987</td>\n",
       "    </tr>\n",
       "    <tr>\n",
       "      <th>C(PSL)[T.40-45]</th>\n",
       "      <td>1.19514</td>\n",
       "      <td>2.33015</td>\n",
       "      <td>1.66879</td>\n",
       "    </tr>\n",
       "    <tr>\n",
       "      <th>C(PSL)[T.50+]</th>\n",
       "      <td>0.90778</td>\n",
       "      <td>2.06041</td>\n",
       "      <td>1.36763</td>\n",
       "    </tr>\n",
       "    <tr>\n",
       "      <th>C(PSL)[T.Unknown]</th>\n",
       "      <td>0.79242</td>\n",
       "      <td>1.30775</td>\n",
       "      <td>1.01798</td>\n",
       "    </tr>\n",
       "    <tr>\n",
       "      <th>C(COLLISION_TYPE)[T.Backing]</th>\n",
       "      <td>0.04033</td>\n",
       "      <td>2.19141</td>\n",
       "      <td>0.29729</td>\n",
       "    </tr>\n",
       "    <tr>\n",
       "      <th>C(COLLISION_TYPE)[T.Head-On]</th>\n",
       "      <td>1.09946</td>\n",
       "      <td>3.68072</td>\n",
       "      <td>2.01166</td>\n",
       "    </tr>\n",
       "    <tr>\n",
       "      <th>C(COLLISION_TYPE)[T.Other]</th>\n",
       "      <td>0.20975</td>\n",
       "      <td>1.92640</td>\n",
       "      <td>0.63566</td>\n",
       "    </tr>\n",
       "    <tr>\n",
       "      <th>C(COLLISION_TYPE)[T.Parking Maneuver]</th>\n",
       "      <td>0.06988</td>\n",
       "      <td>1.25210</td>\n",
       "      <td>0.29580</td>\n",
       "    </tr>\n",
       "    <tr>\n",
       "      <th>C(COLLISION_TYPE)[T.Rear-End]</th>\n",
       "      <td>0.64476</td>\n",
       "      <td>1.41705</td>\n",
       "      <td>0.95586</td>\n",
       "    </tr>\n",
       "    <tr>\n",
       "      <th>C(COLLISION_TYPE)[T.Sideswipe - Meeting]</th>\n",
       "      <td>0.34464</td>\n",
       "      <td>1.84975</td>\n",
       "      <td>0.79844</td>\n",
       "    </tr>\n",
       "    <tr>\n",
       "      <th>C(COLLISION_TYPE)[T.Sideswipe - Overtaking]</th>\n",
       "      <td>0.47055</td>\n",
       "      <td>1.04486</td>\n",
       "      <td>0.70118</td>\n",
       "    </tr>\n",
       "    <tr>\n",
       "      <th>C(COLLISION_TYPE)[T.Turning movement]</th>\n",
       "      <td>0.58712</td>\n",
       "      <td>0.86145</td>\n",
       "      <td>0.71117</td>\n",
       "    </tr>\n",
       "    <tr>\n",
       "      <th>C(Lighting)[T.Dark unlit]</th>\n",
       "      <td>1.08863</td>\n",
       "      <td>2.28462</td>\n",
       "      <td>1.57705</td>\n",
       "    </tr>\n",
       "    <tr>\n",
       "      <th>C(Lighting)[T.Dark, street lights]</th>\n",
       "      <td>1.05170</td>\n",
       "      <td>1.71499</td>\n",
       "      <td>1.34300</td>\n",
       "    </tr>\n",
       "    <tr>\n",
       "      <th>C(Lighting)[T.Dawn]</th>\n",
       "      <td>0.37741</td>\n",
       "      <td>1.38655</td>\n",
       "      <td>0.72340</td>\n",
       "    </tr>\n",
       "    <tr>\n",
       "      <th>C(Lighting)[T.Dusk]</th>\n",
       "      <td>0.83674</td>\n",
       "      <td>1.75477</td>\n",
       "      <td>1.21173</td>\n",
       "    </tr>\n",
       "    <tr>\n",
       "      <th>C(Lighting)[T.Unknown]</th>\n",
       "      <td>0.16976</td>\n",
       "      <td>12.35394</td>\n",
       "      <td>1.44817</td>\n",
       "    </tr>\n",
       "    <tr>\n",
       "      <th>Truck</th>\n",
       "      <td>2.47257</td>\n",
       "      <td>6.97325</td>\n",
       "      <td>4.15233</td>\n",
       "    </tr>\n",
       "    <tr>\n",
       "      <th>midblock</th>\n",
       "      <td>1.43599</td>\n",
       "      <td>2.42510</td>\n",
       "      <td>1.86612</td>\n",
       "    </tr>\n",
       "    <tr>\n",
       "      <th>Truck:midblock</th>\n",
       "      <td>0.12572</td>\n",
       "      <td>1.07746</td>\n",
       "      <td>0.36804</td>\n",
       "    </tr>\n",
       "    <tr>\n",
       "      <th>Struck</th>\n",
       "      <td>0.92928</td>\n",
       "      <td>1.36341</td>\n",
       "      <td>1.12561</td>\n",
       "    </tr>\n",
       "    <tr>\n",
       "      <th>Helmet</th>\n",
       "      <td>1.23965</td>\n",
       "      <td>1.89325</td>\n",
       "      <td>1.53198</td>\n",
       "    </tr>\n",
       "    <tr>\n",
       "      <th>NoHelmet</th>\n",
       "      <td>1.06693</td>\n",
       "      <td>1.58063</td>\n",
       "      <td>1.29862</td>\n",
       "    </tr>\n",
       "    <tr>\n",
       "      <th>HitRun</th>\n",
       "      <td>0.73770</td>\n",
       "      <td>2.08892</td>\n",
       "      <td>1.24137</td>\n",
       "    </tr>\n",
       "    <tr>\n",
       "      <th>Bus</th>\n",
       "      <td>0.23442</td>\n",
       "      <td>2.51096</td>\n",
       "      <td>0.76721</td>\n",
       "    </tr>\n",
       "    <tr>\n",
       "      <th>Female</th>\n",
       "      <td>0.83930</td>\n",
       "      <td>1.23644</td>\n",
       "      <td>1.01869</td>\n",
       "    </tr>\n",
       "    <tr>\n",
       "      <th>alcohol</th>\n",
       "      <td>0.75593</td>\n",
       "      <td>4.01880</td>\n",
       "      <td>1.74297</td>\n",
       "    </tr>\n",
       "    <tr>\n",
       "      <th>drug</th>\n",
       "      <td>0.94792</td>\n",
       "      <td>10.09883</td>\n",
       "      <td>3.09401</td>\n",
       "    </tr>\n",
       "    <tr>\n",
       "      <th>speed</th>\n",
       "      <td>1.59208</td>\n",
       "      <td>4.05297</td>\n",
       "      <td>2.54021</td>\n",
       "    </tr>\n",
       "  </tbody>\n",
       "</table>\n",
       "</div>"
      ],
      "text/plain": [
       "                                                 5%      95%  Odds Ratio\n",
       "Intercept                                   0.03162  0.07215     0.04777\n",
       "C(AgeGroup)[T.15-19]                        0.51058  1.17408     0.77425\n",
       "C(AgeGroup)[T.20-29]                        0.71061  1.45952     1.01840\n",
       "C(AgeGroup)[T.30–39]                        0.66816  1.42799     0.97679\n",
       "C(AgeGroup)[T.40-49]                        0.67269  1.45334     0.98876\n",
       "C(AgeGroup)[T.50–59]                        1.05600  2.23706     1.53699\n",
       "C(AgeGroup)[T.60-69]                        1.02133  2.42562     1.57396\n",
       "C(AgeGroup)[T.70 or more]                   1.25759  3.60419     2.12899\n",
       "C(AgeGroup)[T.Less than 10]                 0.09266  0.74510     0.26275\n",
       "C(AgeGroup)[T.Unknown]                      0.20299  0.67054     0.36893\n",
       "C(RoadClass)[T.Rural]                       1.55921  3.01636     2.16867\n",
       "C(RoadClass)[T.Suburban]                    0.86394  1.60952     1.17921\n",
       "C(RoadClass)[T.Urban Highway]               0.76711  1.24020     0.97538\n",
       "C(PSL)[T.30-35]                             0.89100  1.56238     1.17987\n",
       "C(PSL)[T.40-45]                             1.19514  2.33015     1.66879\n",
       "C(PSL)[T.50+]                               0.90778  2.06041     1.36763\n",
       "C(PSL)[T.Unknown]                           0.79242  1.30775     1.01798\n",
       "C(COLLISION_TYPE)[T.Backing]                0.04033  2.19141     0.29729\n",
       "C(COLLISION_TYPE)[T.Head-On]                1.09946  3.68072     2.01166\n",
       "C(COLLISION_TYPE)[T.Other]                  0.20975  1.92640     0.63566\n",
       "C(COLLISION_TYPE)[T.Parking Maneuver]       0.06988  1.25210     0.29580\n",
       "C(COLLISION_TYPE)[T.Rear-End]               0.64476  1.41705     0.95586\n",
       "C(COLLISION_TYPE)[T.Sideswipe - Meeting]    0.34464  1.84975     0.79844\n",
       "C(COLLISION_TYPE)[T.Sideswipe - Overtaking] 0.47055  1.04486     0.70118\n",
       "C(COLLISION_TYPE)[T.Turning movement]       0.58712  0.86145     0.71117\n",
       "C(Lighting)[T.Dark unlit]                   1.08863  2.28462     1.57705\n",
       "C(Lighting)[T.Dark, street lights]          1.05170  1.71499     1.34300\n",
       "C(Lighting)[T.Dawn]                         0.37741  1.38655     0.72340\n",
       "C(Lighting)[T.Dusk]                         0.83674  1.75477     1.21173\n",
       "C(Lighting)[T.Unknown]                      0.16976 12.35394     1.44817\n",
       "Truck                                       2.47257  6.97325     4.15233\n",
       "midblock                                    1.43599  2.42510     1.86612\n",
       "Truck:midblock                              0.12572  1.07746     0.36804\n",
       "Struck                                      0.92928  1.36341     1.12561\n",
       "Helmet                                      1.23965  1.89325     1.53198\n",
       "NoHelmet                                    1.06693  1.58063     1.29862\n",
       "HitRun                                      0.73770  2.08892     1.24137\n",
       "Bus                                         0.23442  2.51096     0.76721\n",
       "Female                                      0.83930  1.23644     1.01869\n",
       "alcohol                                     0.75593  4.01880     1.74297\n",
       "drug                                        0.94792 10.09883     3.09401\n",
       "speed                                       1.59208  4.05297     2.54021"
      ]
     },
     "execution_count": 18,
     "metadata": {},
     "output_type": "execute_result"
    }
   ],
   "source": [
    "# print odds ratios and 95% confidence intervals\n",
    "params = result.params\n",
    "conf = result.conf_int()\n",
    "conf['Odds Ratio'] = params\n",
    "conf.columns = ['5%', '95%', 'Odds Ratio']\n",
    "np.exp(conf)"
   ]
  },
  {
   "cell_type": "code",
   "execution_count": 19,
   "metadata": {},
   "outputs": [],
   "source": [
    "# function to calculate odds ratios from model results and rename variables.\n",
    "def calc_or():\n",
    "    # retrieve odds ratios and 95% confidence intervals\n",
    "    low = np.exp(result.params) - np.exp(result.conf_int()[0])\n",
    "    high = np.exp(result.conf_int()[1]) - np.exp(result.params)\n",
    "    all_coef_df = pd.DataFrame({'coef': np.exp(result.params.values[1:]),\n",
    "#                             'err': err_series.values[1:],\n",
    "                            'low_err': low.values[1:],\n",
    "                            'high_err': high.values[1:],\n",
    "                            'varname': low.index.values[1:]})\n",
    "    # make nicer looking variable names\n",
    "    all_coef_df.varname.replace(\n",
    "    ['C(AgeGroup)[T.15-19]',\n",
    "     'C(AgeGroup)[T.20-29]',\n",
    "     'C(AgeGroup)[T.30–39]',\n",
    "     'C(AgeGroup)[T.40-49]',\n",
    "     'C(AgeGroup)[T.50–59]',\n",
    "     'C(AgeGroup)[T.60-69]',\n",
    "     'C(AgeGroup)[T.70 or more]',\n",
    "     'C(AgeGroup)[T.Unknown]',\n",
    "     'C(AgeGroup)[T.Less than 10]',\n",
    "     'C(RoadClass)[T.Rural]',\n",
    "     'C(RoadClass)[T.Suburban]',\n",
    "     'C(RoadClass)[T.Urban Highway]',\n",
    "     'C(PSL)[T.30-35]',\n",
    "     'C(PSL)[T.40-45]',\n",
    "     'C(PSL)[T.50+]',\n",
    "     'C(PSL)[T.Unknown]',\n",
    "     'C(COLLISION_TYPE)[T.Backing]',\n",
    "     'C(COLLISION_TYPE)[T.Head-On]',\n",
    "     'C(COLLISION_TYPE)[T.Parking Maneuver]',\n",
    "     'C(COLLISION_TYPE)[T.Turning movement]',\n",
    "     'C(COLLISION_TYPE)[T.Other]',\n",
    "     'C(COLLISION_TYPE)[T.Rear-End]',\n",
    "     'C(COLLISION_TYPE)[T.Sideswipe - Meeting]',\n",
    "     'C(COLLISION_TYPE)[T.Sideswipe - Overtaking]',\n",
    "     'C(Lighting)[T.Dark, street lights]',\n",
    "     'C(Lighting)[T.Dark unlit]',\n",
    "     'C(Lighting)[T.Dawn]',\n",
    "     'C(Lighting)[T.Dusk]',\n",
    "     'C(Lighting)[T.Unknown]',\n",
    "     'alcohol',\n",
    "     'drug',\n",
    "     'speed',\n",
    "     'midblock',\n",
    "     'Struck',\n",
    "     'Helmet',\n",
    "     'NoHelmet',\n",
    "     'HitRun',\n",
    "     'Bus',\n",
    "     'Truck',\n",
    "     'Female'\n",
    "     ],\n",
    "     ['15-19',\n",
    "     '20-29',\n",
    "     '30–39',\n",
    "     '40-49',\n",
    "     '50–59',\n",
    "     '60-69',\n",
    "     '70 or more',\n",
    "     'Age unknown',\n",
    "     'Less than 10',\n",
    "     'Rural (ref: city st)',\n",
    "     'Suburban (ref: city st)',\n",
    "     'Urban hwy (ref: city st)',\n",
    "     '30-35 mph (ref: <=25 mph)',\n",
    "     '40-45 mph (ref: <=25 mph)',\n",
    "     '50+ mph (ref: <=25 mph)',\n",
    "     'Unk. PSL (ref: <=25 mph)',\n",
    "     'Backing (ref: Angle)',\n",
    "     'Head-on (ref: Angle)',\n",
    "     'Parking (ref: Angle)',\n",
    "     'Turning (ref: Angle)',\n",
    "     'Other (ref: Angle)',\n",
    "     'Rear-end (ref: Angle)',\n",
    "     'Sideswipe - opp. dir. (ref: Angle)',\n",
    "     'Sideswipe - same dir. (ref: Angle)',\n",
    "     'Dark, streetlights (ref: Daylight)',\n",
    "     'Dark unlit (ref: Daylight)',\n",
    "     'Dawn (ref: Daylight)',\n",
    "     'Dusk (ref: Daylight)',\n",
    "     'Unk. lighting (ref: Daylight)',\n",
    "     'Alcohol-related (ref: not or unk.)',\n",
    "     'Drugged driver (ref: not or unk.)',\n",
    "     'Speeding related (ref: not or unk.)',\n",
    "     'Midblock (ref: intersection)',\n",
    "     'Bicyclist struck (ref: striking)',\n",
    "     'Helmet used (ref: unk.)',\n",
    "     'Helmet NOT used (ref: unk.)',\n",
    "     'Hit and run (ref: not)',\n",
    "     'Bus',\n",
    "     'Large truck',\n",
    "     'Female'\n",
    "      ], inplace=True)\n",
    "    return all_coef_df                           "
   ]
  },
  {
   "cell_type": "code",
   "execution_count": 20,
   "metadata": {},
   "outputs": [],
   "source": [
    "# function to plot coeffiecients and confidence intervals\n",
    "def plot_coefs(df,ylabel,xlabel):\n",
    "    plt.rcParams.update({'font.size': 20})\n",
    "    fig, ax = plt.subplots(figsize=(20, 15))    \n",
    "    df.plot(y='coef', \n",
    "                 x='varname', \n",
    "                 kind='barh', \n",
    "                 ax=ax, color='none',                   \n",
    "                 logx = True,\n",
    "                 xerr=[df.low_err, df.high_err],\n",
    "                 capsize=8,\n",
    "                 legend = False)\n",
    "    ax.set_ylabel(ylabel,fontsize=20)\n",
    "    ax.set_xlabel(xlabel,fontsize=20)\n",
    "    ax.scatter(y=pd.np.arange(df.shape[0]), \n",
    "               marker='s', s=120, \n",
    "               x=df['coef'], color='orange')\n",
    "    ax.axvline(x=1, linestyle='--', color='r', linewidth=3)\n",
    "    ax.xaxis.set_major_locator(ticker.LogLocator(base=10))\n",
    "    ax.xaxis.set_minor_locator(ticker.LogLocator(base=10,subs=(0.2,0.4,0.6,0.8)))\n",
    "    ax.xaxis.set_major_formatter(ticker.FormatStrFormatter('%.1f'))\n",
    "    ax.xaxis.set_minor_formatter(ticker.FormatStrFormatter('%.1f'))\n",
    "    ax.set_xlim(left=.09)"
   ]
  },
  {
   "cell_type": "code",
   "execution_count": 21,
   "metadata": {},
   "outputs": [
    {
     "data": {
      "image/png": "[encoded data removed]",
      "text/plain": [
       "<Figure size 1440x1080 with 1 Axes>"
      ]
     },
     "metadata": {
      "needs_background": "light"
     },
     "output_type": "display_data"
    }
   ],
   "source": [
    "# Plot coefficients and CI on log scale\n",
    "all_coef_df = calc_or()\n",
    "coef_df = all_coef_df[9:].copy()\n",
    "ylabel=''\n",
    "xlabel='Odds ratio (log scale)'\n",
    "plot_coefs(coef_df,ylabel,xlabel)\n",
    "plt.savefig('../images/ORs_all.png', bbox_inches=\"tight\")"
   ]
  },
  {
   "cell_type": "markdown",
   "metadata": {},
   "source": [
    "#### Model 2. Without urban / rural / suburban"
   ]
  },
  {
   "cell_type": "code",
   "execution_count": 15,
   "metadata": {},
   "outputs": [
    {
     "name": "stdout",
     "output_type": "stream",
     "text": [
      "                 Generalized Linear Model Regression Results                  \n",
      "==============================================================================\n",
      "Dep. Variable:                 inj_KA   No. Observations:                 9161\n",
      "Model:                            GLM   Df Residuals:                     9121\n",
      "Model Family:                Binomial   Df Model:                           39\n",
      "Link Function:                  logit   Scale:                          1.0000\n",
      "Method:                          IRLS   Log-Likelihood:                -2201.8\n",
      "Date:                Sun, 15 Nov 2020   Deviance:                       4403.7\n",
      "Time:                        23:43:55   Pearson chi2:                 9.26e+03\n",
      "No. Iterations:                     7   Covariance Type:             nonrobust\n",
      "===============================================================================================================\n",
      "                                                  coef    std err          z      P>|z|      [0.025      0.975]\n",
      "---------------------------------------------------------------------------------------------------------------\n",
      "Intercept                                      -3.0272      0.209    -14.481      0.000      -3.437      -2.617\n",
      "C(AgeGroup)[T.15-19]                           -0.2842      0.212     -1.342      0.180      -0.699       0.131\n",
      "C(AgeGroup)[T.20-29]                           -0.0295      0.183     -0.162      0.872      -0.388       0.328\n",
      "C(AgeGroup)[T.30–39]                           -0.0701      0.193     -0.363      0.716      -0.448       0.308\n",
      "C(AgeGroup)[T.40-49]                           -0.0392      0.196     -0.200      0.841      -0.423       0.344\n",
      "C(AgeGroup)[T.50–59]                            0.4077      0.191      2.138      0.033       0.034       0.781\n",
      "C(AgeGroup)[T.60-69]                            0.4406      0.220      2.006      0.045       0.010       0.871\n",
      "C(AgeGroup)[T.70 or more]                       0.7270      0.268      2.715      0.007       0.202       1.252\n",
      "C(AgeGroup)[T.Less than 10]                    -1.3476      0.531     -2.537      0.011      -2.389      -0.306\n",
      "C(AgeGroup)[T.Unknown]                         -1.0493      0.304     -3.448      0.001      -1.646      -0.453\n",
      "C(PSL)[T.30-35]                                 0.1737      0.140      1.237      0.216      -0.102       0.449\n",
      "C(PSL)[T.40-45]                                 0.5743      0.164      3.501      0.000       0.253       0.896\n",
      "C(PSL)[T.50+]                                   0.6440      0.192      3.361      0.001       0.268       1.020\n",
      "C(PSL)[T.Unknown]                               0.0381      0.127      0.299      0.765      -0.211       0.288\n",
      "C(COLLISION_TYPE)[T.Backing]                   -1.1878      1.018     -1.167      0.243      -3.183       0.807\n",
      "C(COLLISION_TYPE)[T.Head-On]                    0.7868      0.304      2.585      0.010       0.190       1.383\n",
      "C(COLLISION_TYPE)[T.Other]                     -0.4362      0.565     -0.772      0.440      -1.544       0.672\n",
      "C(COLLISION_TYPE)[T.Parking Maneuver]          -1.2313      0.735     -1.675      0.094      -2.672       0.209\n",
      "C(COLLISION_TYPE)[T.Rear-End]                   0.0403      0.198      0.203      0.839      -0.348       0.428\n",
      "C(COLLISION_TYPE)[T.Sideswipe - Meeting]       -0.1088      0.421     -0.259      0.796      -0.933       0.716\n",
      "C(COLLISION_TYPE)[T.Sideswipe - Overtaking]    -0.2624      0.200     -1.313      0.189      -0.654       0.129\n",
      "C(COLLISION_TYPE)[T.Turning movement]          -0.3321      0.098     -3.401      0.001      -0.524      -0.141\n",
      "C(Lighting)[T.Dark unlit]                       0.4961      0.187      2.647      0.008       0.129       0.863\n",
      "C(Lighting)[T.Dark, street lights]              0.2470      0.124      1.984      0.047       0.003       0.491\n",
      "C(Lighting)[T.Dawn]                            -0.3572      0.332     -1.075      0.282      -1.008       0.294\n",
      "C(Lighting)[T.Dusk]                             0.2010      0.188      1.070      0.284      -0.167       0.569\n",
      "C(Lighting)[T.Unknown]                          0.3736      1.092      0.342      0.732      -1.766       2.514\n",
      "Bus                                            -0.0504      0.731     -0.069      0.945      -1.483       1.382\n",
      "midblock                                        0.6715      0.132      5.089      0.000       0.413       0.930\n",
      "Bus:midblock                                   -0.6903      1.278     -0.540      0.589      -3.195       1.815\n",
      "Truck                                           1.4098      0.264      5.347      0.000       0.893       1.927\n",
      "Truck:midblock                                 -0.7954      0.540     -1.472      0.141      -1.855       0.264\n",
      "Struck                                          0.1315      0.098      1.349      0.177      -0.060       0.323\n",
      "Helmet                                          0.4681      0.107      4.377      0.000       0.258       0.678\n",
      "NoHelmet                                        0.2804      0.100      2.807      0.005       0.085       0.476\n",
      "HitRun                                          0.2388      0.265      0.902      0.367      -0.280       0.758\n",
      "Female                                          0.0088      0.099      0.090      0.929      -0.184       0.202\n",
      "alcohol                                         0.4656      0.429      1.086      0.277      -0.375       1.306\n",
      "drug                                            1.2101      0.580      2.086      0.037       0.073       2.347\n",
      "speed                                           0.9233      0.237      3.890      0.000       0.458       1.388\n",
      "===============================================================================================================\n"
     ]
    }
   ],
   "source": [
    "# binomial logit using glm - All Observations\n",
    "formula = 'inj_KA ~ Truck*midblock + midblock + Struck + Helmet + NoHelmet + HitRun + Bus + Truck + Female + C(AgeGroup) + C(PSL) + C(COLLISION_TYPE) + C(Lighting) + alcohol + drug + speed'\n",
    "model = smf.glm(formula = formula, data=crashes, family=sm.families.Binomial())\n",
    "result = model.fit()\n",
    "print(result.summary())"
   ]
  },
  {
   "cell_type": "code",
   "execution_count": 16,
   "metadata": {},
   "outputs": [
    {
     "data": {
      "text/html": [
       "<div>\n",
       "<style scoped>\n",
       "    .dataframe tbody tr th:only-of-type {\n",
       "        vertical-align: middle;\n",
       "    }\n",
       "\n",
       "    .dataframe tbody tr th {\n",
       "        vertical-align: top;\n",
       "    }\n",
       "\n",
       "    .dataframe thead th {\n",
       "        text-align: right;\n",
       "    }\n",
       "</style>\n",
       "<table border=\"1\" class=\"dataframe\">\n",
       "  <thead>\n",
       "    <tr style=\"text-align: right;\">\n",
       "      <th></th>\n",
       "      <th>5%</th>\n",
       "      <th>95%</th>\n",
       "      <th>Odds Ratio</th>\n",
       "    </tr>\n",
       "  </thead>\n",
       "  <tbody>\n",
       "    <tr>\n",
       "      <th>Intercept</th>\n",
       "      <td>0.03216</td>\n",
       "      <td>0.07299</td>\n",
       "      <td>0.04845</td>\n",
       "    </tr>\n",
       "    <tr>\n",
       "      <th>C(AgeGroup)[T.15-19]</th>\n",
       "      <td>0.49694</td>\n",
       "      <td>1.13979</td>\n",
       "      <td>0.75260</td>\n",
       "    </tr>\n",
       "    <tr>\n",
       "      <th>C(AgeGroup)[T.20-29]</th>\n",
       "      <td>0.67872</td>\n",
       "      <td>1.38885</td>\n",
       "      <td>0.97090</td>\n",
       "    </tr>\n",
       "    <tr>\n",
       "      <th>C(AgeGroup)[T.30–39]</th>\n",
       "      <td>0.63877</td>\n",
       "      <td>1.36080</td>\n",
       "      <td>0.93233</td>\n",
       "    </tr>\n",
       "    <tr>\n",
       "      <th>C(AgeGroup)[T.40-49]</th>\n",
       "      <td>0.65521</td>\n",
       "      <td>1.41125</td>\n",
       "      <td>0.96160</td>\n",
       "    </tr>\n",
       "    <tr>\n",
       "      <th>C(AgeGroup)[T.50–59]</th>\n",
       "      <td>1.03449</td>\n",
       "      <td>2.18456</td>\n",
       "      <td>1.50330</td>\n",
       "    </tr>\n",
       "    <tr>\n",
       "      <th>C(AgeGroup)[T.60-69]</th>\n",
       "      <td>1.01026</td>\n",
       "      <td>2.38928</td>\n",
       "      <td>1.55364</td>\n",
       "    </tr>\n",
       "    <tr>\n",
       "      <th>C(AgeGroup)[T.70 or more]</th>\n",
       "      <td>1.22403</td>\n",
       "      <td>3.49694</td>\n",
       "      <td>2.06890</td>\n",
       "    </tr>\n",
       "    <tr>\n",
       "      <th>C(AgeGroup)[T.Less than 10]</th>\n",
       "      <td>0.09174</td>\n",
       "      <td>0.73605</td>\n",
       "      <td>0.25986</td>\n",
       "    </tr>\n",
       "    <tr>\n",
       "      <th>C(AgeGroup)[T.Unknown]</th>\n",
       "      <td>0.19286</td>\n",
       "      <td>0.63580</td>\n",
       "      <td>0.35017</td>\n",
       "    </tr>\n",
       "    <tr>\n",
       "      <th>C(PSL)[T.30-35]</th>\n",
       "      <td>0.90346</td>\n",
       "      <td>1.56654</td>\n",
       "      <td>1.18967</td>\n",
       "    </tr>\n",
       "    <tr>\n",
       "      <th>C(PSL)[T.40-45]</th>\n",
       "      <td>1.28768</td>\n",
       "      <td>2.44936</td>\n",
       "      <td>1.77595</td>\n",
       "    </tr>\n",
       "    <tr>\n",
       "      <th>C(PSL)[T.50+]</th>\n",
       "      <td>1.30800</td>\n",
       "      <td>2.77202</td>\n",
       "      <td>1.90415</td>\n",
       "    </tr>\n",
       "    <tr>\n",
       "      <th>C(PSL)[T.Unknown]</th>\n",
       "      <td>0.80946</td>\n",
       "      <td>1.33320</td>\n",
       "      <td>1.03883</td>\n",
       "    </tr>\n",
       "    <tr>\n",
       "      <th>C(COLLISION_TYPE)[T.Backing]</th>\n",
       "      <td>0.04146</td>\n",
       "      <td>2.24216</td>\n",
       "      <td>0.30488</td>\n",
       "    </tr>\n",
       "    <tr>\n",
       "      <th>C(COLLISION_TYPE)[T.Head-On]</th>\n",
       "      <td>1.20954</td>\n",
       "      <td>3.98818</td>\n",
       "      <td>2.19633</td>\n",
       "    </tr>\n",
       "    <tr>\n",
       "      <th>C(COLLISION_TYPE)[T.Other]</th>\n",
       "      <td>0.21349</td>\n",
       "      <td>1.95769</td>\n",
       "      <td>0.64649</td>\n",
       "    </tr>\n",
       "    <tr>\n",
       "      <th>C(COLLISION_TYPE)[T.Parking Maneuver]</th>\n",
       "      <td>0.06911</td>\n",
       "      <td>1.23301</td>\n",
       "      <td>0.29192</td>\n",
       "    </tr>\n",
       "    <tr>\n",
       "      <th>C(COLLISION_TYPE)[T.Rear-End]</th>\n",
       "      <td>0.70623</td>\n",
       "      <td>1.53473</td>\n",
       "      <td>1.04109</td>\n",
       "    </tr>\n",
       "    <tr>\n",
       "      <th>C(COLLISION_TYPE)[T.Sideswipe - Meeting]</th>\n",
       "      <td>0.39329</td>\n",
       "      <td>2.04542</td>\n",
       "      <td>0.89691</td>\n",
       "    </tr>\n",
       "    <tr>\n",
       "      <th>C(COLLISION_TYPE)[T.Sideswipe - Overtaking]</th>\n",
       "      <td>0.51986</td>\n",
       "      <td>1.13816</td>\n",
       "      <td>0.76921</td>\n",
       "    </tr>\n",
       "    <tr>\n",
       "      <th>C(COLLISION_TYPE)[T.Turning movement]</th>\n",
       "      <td>0.59239</td>\n",
       "      <td>0.86874</td>\n",
       "      <td>0.71738</td>\n",
       "    </tr>\n",
       "    <tr>\n",
       "      <th>C(Lighting)[T.Dark unlit]</th>\n",
       "      <td>1.13743</td>\n",
       "      <td>2.37127</td>\n",
       "      <td>1.64230</td>\n",
       "    </tr>\n",
       "    <tr>\n",
       "      <th>C(Lighting)[T.Dark, street lights]</th>\n",
       "      <td>1.00305</td>\n",
       "      <td>1.63381</td>\n",
       "      <td>1.28015</td>\n",
       "    </tr>\n",
       "    <tr>\n",
       "      <th>C(Lighting)[T.Dawn]</th>\n",
       "      <td>0.36483</td>\n",
       "      <td>1.34173</td>\n",
       "      <td>0.69964</td>\n",
       "    </tr>\n",
       "    <tr>\n",
       "      <th>C(Lighting)[T.Dusk]</th>\n",
       "      <td>0.84617</td>\n",
       "      <td>1.76661</td>\n",
       "      <td>1.22265</td>\n",
       "    </tr>\n",
       "    <tr>\n",
       "      <th>C(Lighting)[T.Unknown]</th>\n",
       "      <td>0.17094</td>\n",
       "      <td>12.34949</td>\n",
       "      <td>1.45295</td>\n",
       "    </tr>\n",
       "    <tr>\n",
       "      <th>Bus</th>\n",
       "      <td>0.22701</td>\n",
       "      <td>3.98228</td>\n",
       "      <td>0.95081</td>\n",
       "    </tr>\n",
       "    <tr>\n",
       "      <th>midblock</th>\n",
       "      <td>1.51121</td>\n",
       "      <td>2.53485</td>\n",
       "      <td>1.95721</td>\n",
       "    </tr>\n",
       "    <tr>\n",
       "      <th>Bus:midblock</th>\n",
       "      <td>0.04095</td>\n",
       "      <td>6.14051</td>\n",
       "      <td>0.50144</td>\n",
       "    </tr>\n",
       "    <tr>\n",
       "      <th>Truck</th>\n",
       "      <td>2.44242</td>\n",
       "      <td>6.86606</td>\n",
       "      <td>4.09510</td>\n",
       "    </tr>\n",
       "    <tr>\n",
       "      <th>Truck:midblock</th>\n",
       "      <td>0.15651</td>\n",
       "      <td>1.30194</td>\n",
       "      <td>0.45141</td>\n",
       "    </tr>\n",
       "    <tr>\n",
       "      <th>Struck</th>\n",
       "      <td>0.94213</td>\n",
       "      <td>1.38081</td>\n",
       "      <td>1.14057</td>\n",
       "    </tr>\n",
       "    <tr>\n",
       "      <th>Helmet</th>\n",
       "      <td>1.29495</td>\n",
       "      <td>1.96935</td>\n",
       "      <td>1.59694</td>\n",
       "    </tr>\n",
       "    <tr>\n",
       "      <th>NoHelmet</th>\n",
       "      <td>1.08827</td>\n",
       "      <td>1.61000</td>\n",
       "      <td>1.32367</td>\n",
       "    </tr>\n",
       "    <tr>\n",
       "      <th>HitRun</th>\n",
       "      <td>0.75586</td>\n",
       "      <td>2.13310</td>\n",
       "      <td>1.26977</td>\n",
       "    </tr>\n",
       "    <tr>\n",
       "      <th>Female</th>\n",
       "      <td>0.83168</td>\n",
       "      <td>1.22380</td>\n",
       "      <td>1.00886</td>\n",
       "    </tr>\n",
       "    <tr>\n",
       "      <th>alcohol</th>\n",
       "      <td>0.68749</td>\n",
       "      <td>3.69094</td>\n",
       "      <td>1.59295</td>\n",
       "    </tr>\n",
       "    <tr>\n",
       "      <th>drug</th>\n",
       "      <td>1.07585</td>\n",
       "      <td>10.45589</td>\n",
       "      <td>3.35395</td>\n",
       "    </tr>\n",
       "    <tr>\n",
       "      <th>speed</th>\n",
       "      <td>1.58114</td>\n",
       "      <td>4.00850</td>\n",
       "      <td>2.51753</td>\n",
       "    </tr>\n",
       "  </tbody>\n",
       "</table>\n",
       "</div>"
      ],
      "text/plain": [
       "                                                 5%      95%  Odds Ratio\n",
       "Intercept                                   0.03216  0.07299     0.04845\n",
       "C(AgeGroup)[T.15-19]                        0.49694  1.13979     0.75260\n",
       "C(AgeGroup)[T.20-29]                        0.67872  1.38885     0.97090\n",
       "C(AgeGroup)[T.30–39]                        0.63877  1.36080     0.93233\n",
       "C(AgeGroup)[T.40-49]                        0.65521  1.41125     0.96160\n",
       "C(AgeGroup)[T.50–59]                        1.03449  2.18456     1.50330\n",
       "C(AgeGroup)[T.60-69]                        1.01026  2.38928     1.55364\n",
       "C(AgeGroup)[T.70 or more]                   1.22403  3.49694     2.06890\n",
       "C(AgeGroup)[T.Less than 10]                 0.09174  0.73605     0.25986\n",
       "C(AgeGroup)[T.Unknown]                      0.19286  0.63580     0.35017\n",
       "C(PSL)[T.30-35]                             0.90346  1.56654     1.18967\n",
       "C(PSL)[T.40-45]                             1.28768  2.44936     1.77595\n",
       "C(PSL)[T.50+]                               1.30800  2.77202     1.90415\n",
       "C(PSL)[T.Unknown]                           0.80946  1.33320     1.03883\n",
       "C(COLLISION_TYPE)[T.Backing]                0.04146  2.24216     0.30488\n",
       "C(COLLISION_TYPE)[T.Head-On]                1.20954  3.98818     2.19633\n",
       "C(COLLISION_TYPE)[T.Other]                  0.21349  1.95769     0.64649\n",
       "C(COLLISION_TYPE)[T.Parking Maneuver]       0.06911  1.23301     0.29192\n",
       "C(COLLISION_TYPE)[T.Rear-End]               0.70623  1.53473     1.04109\n",
       "C(COLLISION_TYPE)[T.Sideswipe - Meeting]    0.39329  2.04542     0.89691\n",
       "C(COLLISION_TYPE)[T.Sideswipe - Overtaking] 0.51986  1.13816     0.76921\n",
       "C(COLLISION_TYPE)[T.Turning movement]       0.59239  0.86874     0.71738\n",
       "C(Lighting)[T.Dark unlit]                   1.13743  2.37127     1.64230\n",
       "C(Lighting)[T.Dark, street lights]          1.00305  1.63381     1.28015\n",
       "C(Lighting)[T.Dawn]                         0.36483  1.34173     0.69964\n",
       "C(Lighting)[T.Dusk]                         0.84617  1.76661     1.22265\n",
       "C(Lighting)[T.Unknown]                      0.17094 12.34949     1.45295\n",
       "Bus                                         0.22701  3.98228     0.95081\n",
       "midblock                                    1.51121  2.53485     1.95721\n",
       "Bus:midblock                                0.04095  6.14051     0.50144\n",
       "Truck                                       2.44242  6.86606     4.09510\n",
       "Truck:midblock                              0.15651  1.30194     0.45141\n",
       "Struck                                      0.94213  1.38081     1.14057\n",
       "Helmet                                      1.29495  1.96935     1.59694\n",
       "NoHelmet                                    1.08827  1.61000     1.32367\n",
       "HitRun                                      0.75586  2.13310     1.26977\n",
       "Female                                      0.83168  1.22380     1.00886\n",
       "alcohol                                     0.68749  3.69094     1.59295\n",
       "drug                                        1.07585 10.45589     3.35395\n",
       "speed                                       1.58114  4.00850     2.51753"
      ]
     },
     "execution_count": 16,
     "metadata": {},
     "output_type": "execute_result"
    }
   ],
   "source": [
    "# print odds ratios and 95% confidence intervals\n",
    "params = result.params\n",
    "conf = result.conf_int()\n",
    "conf['Odds Ratio'] = params\n",
    "conf.columns = ['5%', '95%', 'Odds Ratio']\n",
    "np.exp(conf)"
   ]
  },
  {
   "cell_type": "code",
   "execution_count": 13,
   "metadata": {},
   "outputs": [
    {
     "data": {
      "image/png": "[encoded data removed]",
      "text/plain": [
       "<Figure size 1440x1080 with 1 Axes>"
      ]
     },
     "metadata": {
      "needs_background": "light"
     },
     "output_type": "display_data"
    }
   ],
   "source": [
    "# Plot coefficients and CI on log scale\n",
    "all_coef_df = calc_or()\n",
    "coef_df = all_coef_df[9:].copy()\n",
    "ylabel=''\n",
    "xlabel='Odds ratio (log scale)'\n",
    "plot_coefs(coef_df,ylabel,xlabel)\n",
    "plt.savefig('../images/ORs_PSL.png', bbox_inches=\"tight\")"
   ]
  },
  {
   "cell_type": "markdown",
   "metadata": {},
   "source": [
    "#### Model 3.  Urban areas only."
   ]
  },
  {
   "cell_type": "code",
   "execution_count": 9,
   "metadata": {},
   "outputs": [
    {
     "name": "stdout",
     "output_type": "stream",
     "text": [
      "                 Generalized Linear Model Regression Results                  \n",
      "==============================================================================\n",
      "Dep. Variable:                 inj_KA   No. Observations:                 8777\n",
      "Model:                            GLM   Df Residuals:                     8740\n",
      "Model Family:                Binomial   Df Model:                           36\n",
      "Link Function:                  logit   Scale:                          1.0000\n",
      "Method:                          IRLS   Log-Likelihood:                -2020.3\n",
      "Date:                Fri, 13 Nov 2020   Deviance:                       4040.6\n",
      "Time:                        19:45:44   Pearson chi2:                 8.77e+03\n",
      "No. Iterations:                     7   Covariance Type:             nonrobust\n",
      "===============================================================================================================\n",
      "                                                  coef    std err          z      P>|z|      [0.025      0.975]\n",
      "---------------------------------------------------------------------------------------------------------------\n",
      "Intercept                                      -2.7980      0.207    -13.494      0.000      -3.204      -2.392\n",
      "C(AgeGroup)[T.15-19]                           -0.3321      0.223     -1.487      0.137      -0.770       0.106\n",
      "C(AgeGroup)[T.20-29]                           -0.0485      0.191     -0.253      0.800      -0.423       0.326\n",
      "C(AgeGroup)[T.30–39]                           -0.0524      0.202     -0.260      0.795      -0.448       0.343\n",
      "C(AgeGroup)[T.40-49]                           -0.0891      0.207     -0.429      0.668      -0.496       0.318\n",
      "C(AgeGroup)[T.50–59]                            0.3663      0.202      1.814      0.070      -0.029       0.762\n",
      "C(AgeGroup)[T.60-69]                            0.4555      0.233      1.953      0.051      -0.002       0.913\n",
      "C(AgeGroup)[T.70 or more]                       0.8048      0.279      2.880      0.004       0.257       1.352\n",
      "C(AgeGroup)[T.Less than 10]                    -1.2278      0.534     -2.300      0.021      -2.274      -0.181\n",
      "C(AgeGroup)[T.Unknown]                         -1.1493      0.313     -3.669      0.000      -1.763      -0.535\n",
      "C(PSL)[T.30-35]                                 0.1456      0.141      1.030      0.303      -0.132       0.423\n",
      "C(PSL)[T.40-45]                                 0.4976      0.170      2.924      0.003       0.164       0.831\n",
      "C(PSL)[T.50+]                                   0.0453      0.278      0.163      0.871      -0.499       0.590\n",
      "C(PSL)[T.Unknown]                              -0.0805      0.128     -0.628      0.530      -0.332       0.171\n",
      "C(COLLISION_TYPE)[T.Backing]                   -1.0892      1.019     -1.069      0.285      -3.086       0.907\n",
      "C(COLLISION_TYPE)[T.Head-On]                    0.8264      0.347      2.379      0.017       0.146       1.507\n",
      "C(COLLISION_TYPE)[T.Other]                     -0.4850      0.643     -0.754      0.451      -1.746       0.776\n",
      "C(COLLISION_TYPE)[T.Parking Maneuver]          -1.7172      1.021     -1.682      0.093      -3.719       0.284\n",
      "C(COLLISION_TYPE)[T.Rear-End]                  -0.1004      0.234     -0.429      0.668      -0.559       0.358\n",
      "C(COLLISION_TYPE)[T.Sideswipe - Meeting]       -0.5228      0.617     -0.847      0.397      -1.733       0.687\n",
      "C(COLLISION_TYPE)[T.Sideswipe - Overtaking]    -0.1664      0.227     -0.735      0.463      -0.611       0.278\n",
      "C(COLLISION_TYPE)[T.Turning movement]          -0.2668      0.101     -2.636      0.008      -0.465      -0.068\n",
      "C(Lighting)[T.Dark unlit]                       0.4583      0.215      2.134      0.033       0.037       0.879\n",
      "C(Lighting)[T.Dark, street lights]              0.3306      0.125      2.634      0.008       0.085       0.576\n",
      "C(Lighting)[T.Dawn]                            -0.2932      0.334     -0.878      0.380      -0.947       0.361\n",
      "C(Lighting)[T.Dusk]                             0.2770      0.195      1.423      0.155      -0.104       0.658\n",
      "C(Lighting)[T.Unknown]                          0.4433      1.093      0.406      0.685      -1.699       2.585\n",
      "midblock                                        0.5697      0.144      3.956      0.000       0.287       0.852\n",
      "Struck                                          0.0668      0.100      0.666      0.505      -0.130       0.263\n",
      "Helmet                                          0.2243      0.106      2.110      0.035       0.016       0.433\n",
      "HitRun                                          0.2580      0.287      0.898      0.369      -0.305       0.821\n",
      "Bus                                            -0.2851      0.606     -0.470      0.638      -1.473       0.903\n",
      "Truck                                           1.2089      0.262      4.607      0.000       0.695       1.723\n",
      "Female                                          0.0141      0.104      0.136      0.892      -0.189       0.217\n",
      "alcohol                                         0.6028      0.433      1.391      0.164      -0.246       1.452\n",
      "drug                                            0.6726      0.842      0.799      0.425      -0.978       2.323\n",
      "speed                                           0.9646      0.254      3.798      0.000       0.467       1.462\n",
      "===============================================================================================================\n"
     ]
    }
   ],
   "source": [
    "# binomial logit using glm - excluding Rural areas\n",
    "formula = 'inj_KA ~  midblock + Struck + Helmet + HitRun + Bus + Truck + Female + C(AgeGroup) + C(PSL) + C(COLLISION_TYPE) + C(Lighting) + alcohol + drug + speed'\n",
    "model = smf.glm(formula = formula, data=crashes[(crashes.RoadClass != 'Rural')], family=sm.families.Binomial())\n",
    "result = model.fit()\n",
    "print(result.summary())"
   ]
  },
  {
   "cell_type": "code",
   "execution_count": 10,
   "metadata": {},
   "outputs": [
    {
     "data": {
      "text/html": [
       "<div>\n",
       "<style scoped>\n",
       "    .dataframe tbody tr th:only-of-type {\n",
       "        vertical-align: middle;\n",
       "    }\n",
       "\n",
       "    .dataframe tbody tr th {\n",
       "        vertical-align: top;\n",
       "    }\n",
       "\n",
       "    .dataframe thead th {\n",
       "        text-align: right;\n",
       "    }\n",
       "</style>\n",
       "<table border=\"1\" class=\"dataframe\">\n",
       "  <thead>\n",
       "    <tr style=\"text-align: right;\">\n",
       "      <th></th>\n",
       "      <th>5%</th>\n",
       "      <th>95%</th>\n",
       "      <th>Odds Ratio</th>\n",
       "    </tr>\n",
       "  </thead>\n",
       "  <tbody>\n",
       "    <tr>\n",
       "      <th>Intercept</th>\n",
       "      <td>0.04058</td>\n",
       "      <td>0.09148</td>\n",
       "      <td>0.06093</td>\n",
       "    </tr>\n",
       "    <tr>\n",
       "      <th>C(AgeGroup)[T.15-19]</th>\n",
       "      <td>0.46302</td>\n",
       "      <td>1.11149</td>\n",
       "      <td>0.71739</td>\n",
       "    </tr>\n",
       "    <tr>\n",
       "      <th>C(AgeGroup)[T.20-29]</th>\n",
       "      <td>0.65482</td>\n",
       "      <td>1.38602</td>\n",
       "      <td>0.95268</td>\n",
       "    </tr>\n",
       "    <tr>\n",
       "      <th>C(AgeGroup)[T.30–39]</th>\n",
       "      <td>0.63869</td>\n",
       "      <td>1.40984</td>\n",
       "      <td>0.94892</td>\n",
       "    </tr>\n",
       "    <tr>\n",
       "      <th>C(AgeGroup)[T.40-49]</th>\n",
       "      <td>0.60909</td>\n",
       "      <td>1.37377</td>\n",
       "      <td>0.91474</td>\n",
       "    </tr>\n",
       "    <tr>\n",
       "      <th>C(AgeGroup)[T.50–59]</th>\n",
       "      <td>0.97102</td>\n",
       "      <td>2.14247</td>\n",
       "      <td>1.44235</td>\n",
       "    </tr>\n",
       "    <tr>\n",
       "      <th>C(AgeGroup)[T.60-69]</th>\n",
       "      <td>0.99838</td>\n",
       "      <td>2.49071</td>\n",
       "      <td>1.57692</td>\n",
       "    </tr>\n",
       "    <tr>\n",
       "      <th>C(AgeGroup)[T.70 or more]</th>\n",
       "      <td>1.29328</td>\n",
       "      <td>3.86691</td>\n",
       "      <td>2.23630</td>\n",
       "    </tr>\n",
       "    <tr>\n",
       "      <th>C(AgeGroup)[T.Less than 10]</th>\n",
       "      <td>0.10288</td>\n",
       "      <td>0.83409</td>\n",
       "      <td>0.29294</td>\n",
       "    </tr>\n",
       "    <tr>\n",
       "      <th>C(AgeGroup)[T.Unknown]</th>\n",
       "      <td>0.17148</td>\n",
       "      <td>0.58544</td>\n",
       "      <td>0.31685</td>\n",
       "    </tr>\n",
       "    <tr>\n",
       "      <th>C(PSL)[T.30-35]</th>\n",
       "      <td>0.87670</td>\n",
       "      <td>1.52636</td>\n",
       "      <td>1.15679</td>\n",
       "    </tr>\n",
       "    <tr>\n",
       "      <th>C(PSL)[T.40-45]</th>\n",
       "      <td>1.17829</td>\n",
       "      <td>2.29604</td>\n",
       "      <td>1.64481</td>\n",
       "    </tr>\n",
       "    <tr>\n",
       "      <th>C(PSL)[T.50+]</th>\n",
       "      <td>0.60687</td>\n",
       "      <td>1.80403</td>\n",
       "      <td>1.04633</td>\n",
       "    </tr>\n",
       "    <tr>\n",
       "      <th>C(PSL)[T.Unknown]</th>\n",
       "      <td>0.71772</td>\n",
       "      <td>1.18621</td>\n",
       "      <td>0.92270</td>\n",
       "    </tr>\n",
       "    <tr>\n",
       "      <th>C(COLLISION_TYPE)[T.Backing]</th>\n",
       "      <td>0.04570</td>\n",
       "      <td>2.47740</td>\n",
       "      <td>0.33647</td>\n",
       "    </tr>\n",
       "    <tr>\n",
       "      <th>C(COLLISION_TYPE)[T.Head-On]</th>\n",
       "      <td>1.15671</td>\n",
       "      <td>4.51413</td>\n",
       "      <td>2.28507</td>\n",
       "    </tr>\n",
       "    <tr>\n",
       "      <th>C(COLLISION_TYPE)[T.Other]</th>\n",
       "      <td>0.17446</td>\n",
       "      <td>2.17283</td>\n",
       "      <td>0.61568</td>\n",
       "    </tr>\n",
       "    <tr>\n",
       "      <th>C(COLLISION_TYPE)[T.Parking Maneuver]</th>\n",
       "      <td>0.02427</td>\n",
       "      <td>1.32864</td>\n",
       "      <td>0.17957</td>\n",
       "    </tr>\n",
       "    <tr>\n",
       "      <th>C(COLLISION_TYPE)[T.Rear-End]</th>\n",
       "      <td>0.57198</td>\n",
       "      <td>1.43023</td>\n",
       "      <td>0.90447</td>\n",
       "    </tr>\n",
       "    <tr>\n",
       "      <th>C(COLLISION_TYPE)[T.Sideswipe - Meeting]</th>\n",
       "      <td>0.17683</td>\n",
       "      <td>1.98757</td>\n",
       "      <td>0.59285</td>\n",
       "    </tr>\n",
       "    <tr>\n",
       "      <th>C(COLLISION_TYPE)[T.Sideswipe - Overtaking]</th>\n",
       "      <td>0.54306</td>\n",
       "      <td>1.32002</td>\n",
       "      <td>0.84667</td>\n",
       "    </tr>\n",
       "    <tr>\n",
       "      <th>C(COLLISION_TYPE)[T.Turning movement]</th>\n",
       "      <td>0.62803</td>\n",
       "      <td>0.93386</td>\n",
       "      <td>0.76582</td>\n",
       "    </tr>\n",
       "    <tr>\n",
       "      <th>C(Lighting)[T.Dark unlit]</th>\n",
       "      <td>1.03816</td>\n",
       "      <td>2.40903</td>\n",
       "      <td>1.58145</td>\n",
       "    </tr>\n",
       "    <tr>\n",
       "      <th>C(Lighting)[T.Dark, street lights]</th>\n",
       "      <td>1.08830</td>\n",
       "      <td>1.77977</td>\n",
       "      <td>1.39174</td>\n",
       "    </tr>\n",
       "    <tr>\n",
       "      <th>C(Lighting)[T.Dawn]</th>\n",
       "      <td>0.38772</td>\n",
       "      <td>1.43485</td>\n",
       "      <td>0.74587</td>\n",
       "    </tr>\n",
       "    <tr>\n",
       "      <th>C(Lighting)[T.Dusk]</th>\n",
       "      <td>0.90080</td>\n",
       "      <td>1.93178</td>\n",
       "      <td>1.31914</td>\n",
       "    </tr>\n",
       "    <tr>\n",
       "      <th>C(Lighting)[T.Unknown]</th>\n",
       "      <td>0.18291</td>\n",
       "      <td>13.26728</td>\n",
       "      <td>1.55779</td>\n",
       "    </tr>\n",
       "    <tr>\n",
       "      <th>midblock</th>\n",
       "      <td>1.33302</td>\n",
       "      <td>2.34408</td>\n",
       "      <td>1.76768</td>\n",
       "    </tr>\n",
       "    <tr>\n",
       "      <th>Struck</th>\n",
       "      <td>0.87826</td>\n",
       "      <td>1.30141</td>\n",
       "      <td>1.06910</td>\n",
       "    </tr>\n",
       "    <tr>\n",
       "      <th>Helmet</th>\n",
       "      <td>1.01611</td>\n",
       "      <td>1.54144</td>\n",
       "      <td>1.25151</td>\n",
       "    </tr>\n",
       "    <tr>\n",
       "      <th>HitRun</th>\n",
       "      <td>0.73715</td>\n",
       "      <td>2.27287</td>\n",
       "      <td>1.29439</td>\n",
       "    </tr>\n",
       "    <tr>\n",
       "      <th>Bus</th>\n",
       "      <td>0.22916</td>\n",
       "      <td>2.46751</td>\n",
       "      <td>0.75197</td>\n",
       "    </tr>\n",
       "    <tr>\n",
       "      <th>Truck</th>\n",
       "      <td>2.00294</td>\n",
       "      <td>5.60206</td>\n",
       "      <td>3.34972</td>\n",
       "    </tr>\n",
       "    <tr>\n",
       "      <th>Female</th>\n",
       "      <td>0.82784</td>\n",
       "      <td>1.24254</td>\n",
       "      <td>1.01421</td>\n",
       "    </tr>\n",
       "    <tr>\n",
       "      <th>alcohol</th>\n",
       "      <td>0.78163</td>\n",
       "      <td>4.27187</td>\n",
       "      <td>1.82730</td>\n",
       "    </tr>\n",
       "    <tr>\n",
       "      <th>drug</th>\n",
       "      <td>0.37600</td>\n",
       "      <td>10.20954</td>\n",
       "      <td>1.95928</td>\n",
       "    </tr>\n",
       "    <tr>\n",
       "      <th>speed</th>\n",
       "      <td>1.59485</td>\n",
       "      <td>4.31632</td>\n",
       "      <td>2.62371</td>\n",
       "    </tr>\n",
       "  </tbody>\n",
       "</table>\n",
       "</div>"
      ],
      "text/plain": [
       "                                                 5%      95%  Odds Ratio\n",
       "Intercept                                   0.04058  0.09148     0.06093\n",
       "C(AgeGroup)[T.15-19]                        0.46302  1.11149     0.71739\n",
       "C(AgeGroup)[T.20-29]                        0.65482  1.38602     0.95268\n",
       "C(AgeGroup)[T.30–39]                        0.63869  1.40984     0.94892\n",
       "C(AgeGroup)[T.40-49]                        0.60909  1.37377     0.91474\n",
       "C(AgeGroup)[T.50–59]                        0.97102  2.14247     1.44235\n",
       "C(AgeGroup)[T.60-69]                        0.99838  2.49071     1.57692\n",
       "C(AgeGroup)[T.70 or more]                   1.29328  3.86691     2.23630\n",
       "C(AgeGroup)[T.Less than 10]                 0.10288  0.83409     0.29294\n",
       "C(AgeGroup)[T.Unknown]                      0.17148  0.58544     0.31685\n",
       "C(PSL)[T.30-35]                             0.87670  1.52636     1.15679\n",
       "C(PSL)[T.40-45]                             1.17829  2.29604     1.64481\n",
       "C(PSL)[T.50+]                               0.60687  1.80403     1.04633\n",
       "C(PSL)[T.Unknown]                           0.71772  1.18621     0.92270\n",
       "C(COLLISION_TYPE)[T.Backing]                0.04570  2.47740     0.33647\n",
       "C(COLLISION_TYPE)[T.Head-On]                1.15671  4.51413     2.28507\n",
       "C(COLLISION_TYPE)[T.Other]                  0.17446  2.17283     0.61568\n",
       "C(COLLISION_TYPE)[T.Parking Maneuver]       0.02427  1.32864     0.17957\n",
       "C(COLLISION_TYPE)[T.Rear-End]               0.57198  1.43023     0.90447\n",
       "C(COLLISION_TYPE)[T.Sideswipe - Meeting]    0.17683  1.98757     0.59285\n",
       "C(COLLISION_TYPE)[T.Sideswipe - Overtaking] 0.54306  1.32002     0.84667\n",
       "C(COLLISION_TYPE)[T.Turning movement]       0.62803  0.93386     0.76582\n",
       "C(Lighting)[T.Dark unlit]                   1.03816  2.40903     1.58145\n",
       "C(Lighting)[T.Dark, street lights]          1.08830  1.77977     1.39174\n",
       "C(Lighting)[T.Dawn]                         0.38772  1.43485     0.74587\n",
       "C(Lighting)[T.Dusk]                         0.90080  1.93178     1.31914\n",
       "C(Lighting)[T.Unknown]                      0.18291 13.26728     1.55779\n",
       "midblock                                    1.33302  2.34408     1.76768\n",
       "Struck                                      0.87826  1.30141     1.06910\n",
       "Helmet                                      1.01611  1.54144     1.25151\n",
       "HitRun                                      0.73715  2.27287     1.29439\n",
       "Bus                                         0.22916  2.46751     0.75197\n",
       "Truck                                       2.00294  5.60206     3.34972\n",
       "Female                                      0.82784  1.24254     1.01421\n",
       "alcohol                                     0.78163  4.27187     1.82730\n",
       "drug                                        0.37600 10.20954     1.95928\n",
       "speed                                       1.59485  4.31632     2.62371"
      ]
     },
     "execution_count": 10,
     "metadata": {},
     "output_type": "execute_result"
    }
   ],
   "source": [
    "# print odds ratios and 95% confidence intervals\n",
    "params = result.params\n",
    "conf = result.conf_int()\n",
    "conf['Odds Ratio'] = params\n",
    "conf.columns = ['5%', '95%', 'Odds Ratio']\n",
    "np.exp(conf)"
   ]
  },
  {
   "cell_type": "code",
   "execution_count": 14,
   "metadata": {},
   "outputs": [
    {
     "data": {
      "image/png": "[encoded data removed]",
      "text/plain": [
       "<Figure size 1440x1080 with 1 Axes>"
      ]
     },
     "metadata": {
      "needs_background": "light"
     },
     "output_type": "display_data"
    }
   ],
   "source": [
    "# Plot coefficients and CI on log scale\n",
    "all_coef_df = calc_or()\n",
    "coef_df = all_coef_df[9:].copy()\n",
    "ylabel=''\n",
    "xlabel='Odds ratio (log scale)'\n",
    "plot_coefs(coef_df,ylabel,xlabel)\n",
    "plt.savefig('../images/ORs_urban.png', bbox_inches=\"tight\")"
   ]
  },
  {
   "cell_type": "markdown",
   "metadata": {},
   "source": [
    "#### Model 4: NTSB variables only, all observations"
   ]
  },
  {
   "cell_type": "code",
   "execution_count": 16,
   "metadata": {},
   "outputs": [
    {
     "name": "stdout",
     "output_type": "stream",
     "text": [
      "                 Generalized Linear Model Regression Results                  \n",
      "==============================================================================\n",
      "Dep. Variable:                 inj_KA   No. Observations:                 9180\n",
      "Model:                            GLM   Df Residuals:                     9171\n",
      "Model Family:                Binomial   Df Model:                            8\n",
      "Link Function:                  logit   Scale:                          1.0000\n",
      "Method:                          IRLS   Log-Likelihood:                -2296.7\n",
      "Date:                Fri, 13 Nov 2020   Deviance:                       4593.3\n",
      "Time:                        19:50:23   Pearson chi2:                 9.23e+03\n",
      "No. Iterations:                     6   Covariance Type:             nonrobust\n",
      "=================================================================================================\n",
      "                                    coef    std err          z      P>|z|      [0.025      0.975]\n",
      "-------------------------------------------------------------------------------------------------\n",
      "Intercept                        -2.8486      0.110    -25.965      0.000      -3.064      -2.634\n",
      "C(RoadClass)[T.Rural]             0.8998      0.157      5.733      0.000       0.592       1.207\n",
      "C(RoadClass)[T.Suburban]          0.1635      0.154      1.061      0.288      -0.138       0.465\n",
      "C(RoadClass)[T.Urban Highway]    -0.0464      0.120     -0.386      0.700      -0.282       0.189\n",
      "C(PSL)[T.30-35]                   0.2101      0.140      1.505      0.132      -0.064       0.484\n",
      "C(PSL)[T.40-45]                   0.5800      0.165      3.510      0.000       0.256       0.904\n",
      "C(PSL)[T.50+]                     0.4485      0.197      2.275      0.023       0.062       0.835\n",
      "C(PSL)[T.Unknown]                -0.0821      0.123     -0.666      0.505      -0.324       0.159\n",
      "midblock                          0.7660      0.100      7.686      0.000       0.571       0.961\n",
      "=================================================================================================\n"
     ]
    }
   ],
   "source": [
    "# binomial logit using glm - All Observations\n",
    "formula = 'inj_KA ~  midblock + C(RoadClass) + C(PSL)'\n",
    "model = smf.glm(formula = formula, data=crashes, family=sm.families.Binomial())\n",
    "result = model.fit()\n",
    "print(result.summary())"
   ]
  },
  {
   "cell_type": "code",
   "execution_count": 17,
   "metadata": {},
   "outputs": [
    {
     "name": "stdout",
     "output_type": "stream",
     "text": [
      "                                   5%     95%  Odds Ratio\n",
      "Intercept                     0.04672 0.07182     0.05792\n",
      "C(RoadClass)[T.Rural]         1.80795 3.34498     2.45918\n",
      "C(RoadClass)[T.Suburban]      0.87073 1.59279     1.17766\n",
      "C(RoadClass)[T.Urban Highway] 0.75434 1.20829     0.95471\n",
      "C(PSL)[T.30-35]               0.93840 1.62217     1.23379\n",
      "C(PSL)[T.40-45]               1.29188 2.46907     1.78598\n",
      "C(PSL)[T.50+]                 1.06400 2.30492     1.56602\n",
      "C(PSL)[T.Unknown]             0.72352 1.17280     0.92117\n",
      "midblock                      1.76942 2.61509     2.15109\n"
     ]
    }
   ],
   "source": [
    "# print odds ratios and 95% confidence intervals\n",
    "params = result.params\n",
    "conf = result.conf_int()\n",
    "conf['Odds Ratio'] = params\n",
    "conf.columns = ['5%', '95%', 'Odds Ratio']\n",
    "print(np.exp(conf))"
   ]
  },
  {
   "cell_type": "code",
   "execution_count": 3,
   "metadata": {},
   "outputs": [
    {
     "data": {
      "text/plain": [
       "['Unnamed: 0',\n",
       " 'ACTN_CD',\n",
       " 'ACTN_LONG_DESC',\n",
       " 'ACTN_SHORT_DESC',\n",
       " 'AGE_VAL',\n",
       " 'AGY_ST_NO',\n",
       " 'AIRBAG_DEPLOY_IND',\n",
       " 'ALCHL_INVLV_FLG',\n",
       " 'ALCHL_USE_RPT_IND',\n",
       " 'BAC_VAL',\n",
       " 'CAUSE_1_CAUSE_LONG_DESC',\n",
       " 'CAUSE_2_CAUSE_LONG_DESC',\n",
       " 'CAUSE_3_CAUSE_LONG_DESC',\n",
       " 'CAUSE_CAUSE_LONG_DESC',\n",
       " 'CITY_SECT_ID',\n",
       " 'CITY_SECT_NM',\n",
       " 'CMPSS_DIR_CD',\n",
       " 'CMPSS_DIR_FROM_CD',\n",
       " 'CMPSS_DIR_TO_CD',\n",
       " 'CNTY_ID',\n",
       " 'CNTY_NM',\n",
       " 'COLLIS_TYP_CD',\n",
       " 'COLLIS_TYP_LONG_DESC',\n",
       " 'COLLIS_TYP_SHORT_DESC',\n",
       " 'CRASH_CAUSE_1_CD',\n",
       " 'CRASH_CAUSE_1_SHORT_DESC',\n",
       " 'CRASH_CAUSE_2_CD',\n",
       " 'CRASH_CAUSE_2_SHORT_DESC',\n",
       " 'CRASH_CAUSE_3_CD',\n",
       " 'CRASH_CAUSE_3_SHORT_DESC',\n",
       " 'CRASH_CRASH_ID',\n",
       " 'CRASH_DAY_NO',\n",
       " 'CRASH_DT',\n",
       " 'CRASH_ERR_LONG_DESC',\n",
       " 'CRASH_EVNT_1_CD',\n",
       " 'CRASH_EVNT_1_SHORT_DESC',\n",
       " 'CRASH_EVNT_2_CD',\n",
       " 'CRASH_EVNT_2_SHORT_DESC',\n",
       " 'CRASH_EVNT_3_CD',\n",
       " 'CRASH_EVNT_3_SHORT_DESC',\n",
       " 'CRASH_HIT_RUN_FLG',\n",
       " 'CRASH_HR_NO',\n",
       " 'CRASH_HR_SHORT_DESC',\n",
       " 'CRASH_LAST_UD_DT',\n",
       " 'CRASH_MO_NO',\n",
       " 'CRASH_SPEED_INVLV_FLG',\n",
       " 'CRASH_SVRTY_CD',\n",
       " 'CRASH_SVRTY_SHORT_DESC',\n",
       " 'CRASH_TYP_CD',\n",
       " 'CRASH_TYP_SHORT_DESC',\n",
       " 'CRASH_WK_DAY_CD',\n",
       " 'CRASH_YR_NO',\n",
       " 'DIST_ID',\n",
       " 'DRUG_INVLV_FLG',\n",
       " 'DRUG_USE_RPT_IND',\n",
       " 'DRVR_LIC_STAT_CD',\n",
       " 'DRVR_LIC_STAT_SHORT_DESC',\n",
       " 'DRVR_RES_SHORT_DESC',\n",
       " 'DRVR_RES_STAT_CD',\n",
       " 'DRVWY_REL_FLG',\n",
       " 'EVNT_LONG_DESC',\n",
       " 'FC_CD',\n",
       " 'FC_SHORT_DESC',\n",
       " 'FROM_ISECT_DSTNC_QTY',\n",
       " 'HWY_COMPNT_CD',\n",
       " 'HWY_COMPNT_SHORT_DESC',\n",
       " 'HWY_MED_NM',\n",
       " 'HWY_NO',\n",
       " 'HWY_SFX_NO',\n",
       " 'IMPCT_LOC_CD',\n",
       " 'INJ_SVRTY_CD',\n",
       " 'INJ_SVRTY_SHORT_DESC',\n",
       " 'INVSTG_AGY_CD',\n",
       " 'INVSTG_AGY_SHORT_DESC',\n",
       " 'ISECT_AGY_ST_NO',\n",
       " 'ISECT_RECRE_RD_NM',\n",
       " 'ISECT_REL_FLG',\n",
       " 'ISECT_SEQ_NO',\n",
       " 'ISECT_ST_FULL_NM',\n",
       " 'ISECT_TYP_CD',\n",
       " 'ISECT_TYP_SHORT_DESC',\n",
       " 'JRSDCT_GRP_CD',\n",
       " 'JRSDCT_GRP_LONG_DESC',\n",
       " 'LANE_RDWY_DPRT_CRASH_FLG',\n",
       " 'LAT_DD',\n",
       " 'LAT_DEG_NO',\n",
       " 'LAT_MINUTE_NO',\n",
       " 'LAT_SEC_NO',\n",
       " 'LGT_COND_CD',\n",
       " 'LGT_COND_SHORT_DESC',\n",
       " 'LN_QTY',\n",
       " 'LONGTD_DD',\n",
       " 'LONGTD_DEG_NO',\n",
       " 'LONGTD_MINUTE_NO',\n",
       " 'LONGTD_SEC_NO',\n",
       " 'LRS_VAL',\n",
       " 'MEDN_TYP_CD',\n",
       " 'MEDN_TYP_SHORT_DESC',\n",
       " 'MJ_INVLV_FLG',\n",
       " 'MJ_USE_RPT_IND',\n",
       " 'MLGE_TYP_CD',\n",
       " 'MLGE_TYP_SHORT_DESC',\n",
       " 'MP_NO',\n",
       " 'MVMNT_CD',\n",
       " 'MVMNT_LONG_DESC',\n",
       " 'MVMNT_SHORT_DESC',\n",
       " 'NHS_FLG',\n",
       " 'NON_MOTRST_LOC_CD',\n",
       " 'NON_MOTRST_LOC_LONG_DESC',\n",
       " 'NON_MOTRST_LOC_SHORT_DESC',\n",
       " 'OFF_RDWY_FLG',\n",
       " 'PARTIC_CAUSE_1_CD',\n",
       " 'PARTIC_CAUSE_1_SHORT_DESC',\n",
       " 'PARTIC_CAUSE_2_CD',\n",
       " 'PARTIC_CAUSE_2_SHORT_DESC',\n",
       " 'PARTIC_CAUSE_3_CD',\n",
       " 'PARTIC_CAUSE_3_SHORT_DESC',\n",
       " 'PARTIC_CMPSS_DIR_FROM_SHORT_DESC',\n",
       " 'PARTIC_CMPSS_DIR_TO_SHORT_DESC',\n",
       " 'PARTIC_CRASH_ID',\n",
       " 'PARTIC_DSPLY_SEQ_NO',\n",
       " 'PARTIC_ERR_1_CD',\n",
       " 'PARTIC_ERR_1_SHORT_DESC',\n",
       " 'PARTIC_ERR_2_CD',\n",
       " 'PARTIC_ERR_2_SHORT_DESC',\n",
       " 'PARTIC_ERR_3_CD',\n",
       " 'PARTIC_ERR_3_SHORT_DESC',\n",
       " 'PARTIC_EVNT_1_CD',\n",
       " 'PARTIC_EVNT_1_SHORT_DESC',\n",
       " 'PARTIC_EVNT_2_CD',\n",
       " 'PARTIC_EVNT_2_SHORT_DESC',\n",
       " 'PARTIC_EVNT_3_CD',\n",
       " 'PARTIC_EVNT_3_SHORT_DESC',\n",
       " 'PARTIC_HIT_RUN_FLG',\n",
       " 'PARTIC_ID',\n",
       " 'PARTIC_TYP_CD',\n",
       " 'PARTIC_TYP_SHORT_DESC',\n",
       " 'PARTIC_VHCL_SEQ_NO',\n",
       " 'POP_RNG_CD',\n",
       " 'POP_RNG_MED_DESC',\n",
       " 'POST_SPEED_LMT_VAL',\n",
       " 'PUB_EMPL_FLG',\n",
       " 'RDWY_NO',\n",
       " 'RD_CHAR_CD',\n",
       " 'RD_CHAR_SHORT_DESC',\n",
       " 'RD_CNTL_CD',\n",
       " 'RD_CNTL_MED_DESC',\n",
       " 'RD_CON_NO',\n",
       " 'RD_SURF_COND_CD',\n",
       " 'RD_SURF_SHORT_DESC',\n",
       " 'RECRE_RD_NM',\n",
       " 'REG_ID',\n",
       " 'RNDABT_FLG',\n",
       " 'RTE_ID',\n",
       " 'RTE_NM',\n",
       " 'RTE_TYP_CD',\n",
       " 'SCHL_ZONE_IND',\n",
       " 'SCNDRY_CRASH_IND',\n",
       " 'SEG_MRK_ID',\n",
       " 'SEG_PT_LRS_MEAS',\n",
       " 'SER_NO',\n",
       " 'SEX_CD',\n",
       " 'SFTY_EQUIP_USE_CD',\n",
       " 'SFTY_EQUIP_USE_SHORT_DESC',\n",
       " 'SPECL_JRSDCT_ID',\n",
       " 'SPECL_JRSDCT_SHORT_DESC',\n",
       " 'STRIKG_PARTIC_FLG',\n",
       " 'ST_FULL_NM',\n",
       " 'TOT_ALCHL_IMPAIRED_DRVR_INV_FATAL_CNT',\n",
       " 'TOT_DRVR_AGE_01_20_CNT',\n",
       " 'TOT_FATAL_CNT',\n",
       " 'TOT_INJ_CNT',\n",
       " 'TOT_INJ_LVL_A_CNT',\n",
       " 'TOT_INJ_LVL_B_CNT',\n",
       " 'TOT_INJ_LVL_C_CNT',\n",
       " 'TOT_MCYCLST_FATAL_CNT',\n",
       " 'TOT_MCYCLST_INJ_CNT',\n",
       " 'TOT_MCYCLST_INJ_LVL_A_CNT',\n",
       " 'TOT_MCYCLST_UNHELMTD_FATAL_CNT',\n",
       " 'TOT_OCCUP_CNT',\n",
       " 'TOT_PEDCYCL_CNT',\n",
       " 'TOT_PEDCYCL_FATAL_CNT',\n",
       " 'TOT_PEDCYCL_INJ_CNT',\n",
       " 'TOT_PEDCYCL_INJ_LVL_A_CNT',\n",
       " 'TOT_PED_CNT',\n",
       " 'TOT_PED_FATAL_CNT',\n",
       " 'TOT_PED_INJ_CNT',\n",
       " 'TOT_PED_INJ_LVL_A_CNT',\n",
       " 'TOT_PER_INVLV_CNT',\n",
       " 'TOT_PSNGR_VHCL_OCC_UNRESTRND_FATAL_CNT',\n",
       " 'TOT_SFTY_EQUIP_UNUSED_QTY',\n",
       " 'TOT_SFTY_EQUIP_USED_QTY',\n",
       " 'TOT_SFTY_EQUIP_USE_UNKNOWN_QTY',\n",
       " 'TOT_UNINJD_AGE00_04_CNT',\n",
       " 'TOT_UNINJD_PER_CNT',\n",
       " 'TOT_UNKNWN_CNT',\n",
       " 'TOT_UNKNWN_FATAL_CNT',\n",
       " 'TOT_UNKNWN_INJ_CNT',\n",
       " 'TOT_VHCL_CNT',\n",
       " 'TRAF_CNTL_DEVICE_CD',\n",
       " 'TRAF_CNTL_DEVICE_SHORT_DESC',\n",
       " 'TRAF_CNTL_FUNC_FLG',\n",
       " 'TURNG_LEG_QTY',\n",
       " 'UNLOCT_FLG',\n",
       " 'URB_AREA_CD',\n",
       " 'URB_AREA_SHORT_NM',\n",
       " 'VHCL_CODED_SEQ_NO',\n",
       " 'VHCL_ID',\n",
       " 'WRK_ZONE_IND',\n",
       " 'WTHR_COND_CD',\n",
       " 'WTHR_COND_SHORT_DESC',\n",
       " 'inj_KA',\n",
       " 'midblock',\n",
       " 'HitRun',\n",
       " 'drug',\n",
       " 'alcohol',\n",
       " 'speed',\n",
       " 'RoadClass',\n",
       " 'Helmet',\n",
       " 'NoHelmet',\n",
       " 'AgeGroup',\n",
       " 'PSL',\n",
       " 'Lighting',\n",
       " 'Female',\n",
       " 'Struck',\n",
       " 'COLLISION_TYPE',\n",
       " 'VHCL_CRASH_ID_x',\n",
       " 'Truck',\n",
       " 'VHCL_CRASH_ID_y',\n",
       " 'Bus']"
      ]
     },
     "execution_count": 3,
     "metadata": {},
     "output_type": "execute_result"
    }
   ],
   "source": [
    "crashes.columns.tolist()"
   ]
  },
  {
   "cell_type": "code",
   "execution_count": 4,
   "metadata": {},
   "outputs": [
    {
     "data": {
      "text/plain": [
       "NO CODE     4769\n",
       "IN RDWY     1101\n",
       "NO-YIELD     973\n",
       "PAS-STOP     344\n",
       "NT VISBL     327\n",
       "OTHER        279\n",
       "DIS SIG      277\n",
       "DIS--RAG     267\n",
       "TOO-FAST     176\n",
       "LEFT-CTR     107\n",
       "WRNG WAY     105\n",
       "IMP-TURN      94\n",
       "INATTENT      69\n",
       "IMP LN C      66\n",
       "IMP-OVER      65\n",
       "TOO-CLOS      58\n",
       "DIS TCD       27\n",
       "F AVOID       20\n",
       "CARELESS      18\n",
       "NM INATT      10\n",
       "RECKLESS       9\n",
       "VIEW OBS       5\n",
       "USED MDN       5\n",
       "OTHR-IMP       3\n",
       "ILLNESS        3\n",
       "FATIGUE        2\n",
       "PHANTOM        1\n",
       "Name: PARTIC_CAUSE_1_SHORT_DESC, dtype: int64"
      ]
     },
     "execution_count": 4,
     "metadata": {},
     "output_type": "execute_result"
    }
   ],
   "source": [
    "crashes.PARTIC_CAUSE_1_SHORT_DESC.value_counts()"
   ]
  },
  {
   "cell_type": "code",
   "execution_count": 5,
   "metadata": {},
   "outputs": [
    {
     "data": {
      "text/plain": [
       "NO-YIELD    5318\n",
       "IN RDWY      915\n",
       "PAS-STOP     420\n",
       "DIS SIG      354\n",
       "DIS--RAG     346\n",
       "IMP-TURN     184\n",
       "OTHER        174\n",
       "TOO-FAST     165\n",
       "INATTENT     153\n",
       "OTHR-IMP     136\n",
       "CARELESS     133\n",
       "IMP-OVER     122\n",
       "NT VISBL     117\n",
       "LEFT-CTR     103\n",
       "TOO-CLOS     102\n",
       "WRNG WAY      90\n",
       "IMP LN C      82\n",
       "RECKLESS      62\n",
       "VIEW OBS      38\n",
       "F AVOID       36\n",
       "DIS TCD       36\n",
       "NO CODE       27\n",
       "SPEED         14\n",
       "NM INATT      12\n",
       "ILLNESS        9\n",
       "FATIGUE        9\n",
       "DEF BRKE       8\n",
       "PHANTOM        6\n",
       "USED MDN       4\n",
       "DEF STER       2\n",
       "RD RAGE        1\n",
       "LOADSHFT       1\n",
       "MECH-DEF       1\n",
       "Name: CRASH_CAUSE_1_SHORT_DESC, dtype: int64"
      ]
     },
     "execution_count": 5,
     "metadata": {},
     "output_type": "execute_result"
    }
   ],
   "source": [
    "crashes.CRASH_CAUSE_1_SHORT_DESC.value_counts()"
   ]
  }
 ],
 "metadata": {
  "kernelspec": {
   "display_name": "Python 3",
   "language": "python",
   "name": "python3"
  },
  "language_info": {
   "codemirror_mode": {
    "name": "ipython",
    "version": 3
   },
   "file_extension": ".py",
   "mimetype": "text/x-python",
   "name": "python",
   "nbconvert_exporter": "python",
   "pygments_lexer": "ipython3",
   "version": "3.6.8"
  }
 },
 "nbformat": 4,
 "nbformat_minor": 2
}
